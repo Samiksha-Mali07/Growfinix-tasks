{
 "cells": [
  {
   "cell_type": "markdown",
   "id": "7a350e38-e198-41ae-aad9-cbace8f7bf82",
   "metadata": {},
   "source": [
    "#  Task 5 - AI-Powered Resume Feedback Tool"
   ]
  },
  {
   "cell_type": "markdown",
   "id": "d0faa12a-425b-4e4f-9079-309291b51315",
   "metadata": {},
   "source": [
    "# AI-Powered Resume Feedback Tool"
   ]
  },
  {
   "cell_type": "markdown",
   "id": "f0617339-ead9-4572-897d-5905006b04fc",
   "metadata": {},
   "source": [
    "# 1.Let user upload their resume file."
   ]
  },
  {
   "cell_type": "markdown",
   "id": "0550732d-6936-406d-bf46-54ce83e55219",
   "metadata": {},
   "source": [
    "#  2.Extract text using PyMuPDF or docx libraries"
   ]
  },
  {
   "cell_type": "code",
   "execution_count": null,
   "id": "2e2ed052-cc30-4945-96b1-833c2ef74095",
   "metadata": {},
   "outputs": [],
   "source": [
    "pip install pymupdf"
   ]
  },
  {
   "cell_type": "code",
   "execution_count": 21,
   "id": "93a26429-9e77-4d41-b5fc-838c86efedea",
   "metadata": {},
   "outputs": [
    {
     "name": "stdout",
     "output_type": "stream",
     "text": [
      "  \n",
      "VAISHNAVI \n",
      "MALI  \n",
      "                               Turori,  \n",
      "Omerga  - 413606                  \n",
      "                              vaishnavimali2244@gmail.com  \n",
      "9699387177 \n",
      "  \n",
      "  OBJECTIVE  \n",
      "To pursue a promising and challenging career in a reputable organization where I can effectively apply \n",
      "my knowledge and skills, enabling me to fully explore my potential and contribute to the company's \n",
      "success.  \n",
      "   \n",
      " CORE SOFTWARE SKILLS  \n",
      "  \n",
      " \n",
      "• SQL , C, C++ ,python \n",
      "  \n",
      "  \n",
      "  \n",
      "  \n",
      "  EDUCATION  \n",
      "  \n",
      "• BSC(CS) | Shri Chhatrapati Shivaji College,Omarga \n",
      "AUG 2022 – JULY 2025 | persuing  \n",
      "  \n",
      "• HSC | Shri Chhatrapati Shivaji College,Omarga  \n",
      "                            May 2022 | COMPLETED WITH 75.67 %  \n",
      "  \n",
      "• SSC | Shri Dnyneshwar Vidyalaya , Turori  \n",
      "March 2020 | COMPLETED WITH 77.20 %  \n",
      "  \n",
      "    STRENGTHS  \n",
      "  \n",
      "• \n",
      "Attention Details  \n",
      "• \n",
      "Quick Learner  \n",
      "• \n",
      "Goal Oriented  \n",
      "• \n",
      "Communication & Collaboration  \n",
      "• \n",
      "Ability to work under pressure  \n",
      "  \n",
      "  \n",
      "  \n",
      "PERSONAL DETAILS  \n",
      "• Full Name  \n",
      ":  \n",
      "Vaishnavi Sanjay Mali  \n"
     ]
    }
   ],
   "source": [
    "import fitz\n",
    "\n",
    "file_path = r\"C:\\Users\\admin\\Downloads\\Vaishnavi_Mali.pdf\"\n",
    "doc = fitz.open(file_path)\n",
    "text = \"\"\n",
    "for page in doc:\n",
    "    text += page.get_text()\n",
    "\n",
    "print(text[:1000])\n",
    "\n"
   ]
  },
  {
   "cell_type": "code",
   "execution_count": 10,
   "id": "29b76c01-0320-4996-a27f-7a48f2653c94",
   "metadata": {},
   "outputs": [
    {
     "name": "stdout",
     "output_type": "stream",
     "text": [
      "Collecting python-docx\n",
      "  Downloading python_docx-1.2.0-py3-none-any.whl.metadata (2.0 kB)\n",
      "Requirement already satisfied: lxml>=3.1.0 in c:\\users\\admin\\anaconda3\\lib\\site-packages (from python-docx) (5.2.1)\n",
      "Requirement already satisfied: typing_extensions>=4.9.0 in c:\\users\\admin\\anaconda3\\lib\\site-packages (from python-docx) (4.11.0)\n",
      "Downloading python_docx-1.2.0-py3-none-any.whl (252 kB)\n",
      "Installing collected packages: python-docx\n",
      "Successfully installed python-docx-1.2.0\n"
     ]
    }
   ],
   "source": [
    "!pip install python-docx\n"
   ]
  },
  {
   "cell_type": "code",
   "execution_count": 12,
   "id": "48cd7bb6-5155-4279-8109-714889b5dd5b",
   "metadata": {},
   "outputs": [],
   "source": [
    "from docx import Document\n"
   ]
  },
  {
   "cell_type": "code",
   "execution_count": 15,
   "id": "f6095af4-9d00-4975-bd01-1ddff4af5743",
   "metadata": {},
   "outputs": [
    {
     "name": "stdout",
     "output_type": "stream",
     "text": [
      "✅ python-docx is now working!\n"
     ]
    }
   ],
   "source": [
    "from docx import Document\n",
    "print(\"✅ python-docx is now working!\")\n"
   ]
  },
  {
   "cell_type": "markdown",
   "id": "0eafdb12-da65-4db5-afb2-da4dc727c960",
   "metadata": {},
   "source": [
    "#  3.Preprocess and remove unnecessary content"
   ]
  },
  {
   "cell_type": "code",
   "execution_count": 24,
   "id": "d6ab1cdf-494a-410f-9d02-781f58a01424",
   "metadata": {},
   "outputs": [
    {
     "name": "stdout",
     "output_type": "stream",
     "text": [
      "VAISHNAVI MALI Turori, Omerga - 413606 vaishnavimali2244@gmail.com 9699387177 OBJECTIVE To pursue a promising and challenging career in a reputable organization where I can effectively apply my knowledge and skills, enabling me to fully explore my potential and contribute to the companys success. CORE SOFTWARE SKILLS  SQL , C, C ,python EDUCATION  BSCCS  Shri Chhatrapati Shivaji College,Omarga AUG 2022  JULY 2025  persuing  HSC  Shri Chhatrapati Shivaji College,Omarga May 2022  COMPLETED WITH 75.67   SSC  Shri Dnyneshwar Vidyalaya , Turori March 2020  COMPLETED WITH 77.20  STRENGTHS  Attention Details  Quick Learner  Goal Oriented  Communication  Collaboration  Ability to work under pressure PERSONAL DETAILS  Full Name  Vaishnavi Sanjay Mali  Marital Status  Unmarried  Nationality  Indian  Date of Birth  9th May 2004  Languages Known  English, Hindi,  Marathi DECELERATION I hereby declare that all the information given above is true to the best of my knowledge and belief. Place Sign Da\n"
     ]
    }
   ],
   "source": [
    "import re\n",
    "\n",
    "def preprocess_resume_text(text):\n",
    "    # Replace multiple newlines and spaces with single space\n",
    "    text = re.sub(r'\\s+', ' ', text)\n",
    "\n",
    "    # Remove page numbers or lines that are just numbers (common in PDFs)\n",
    "    text = re.sub(r'\\bPage \\d+\\b', '', text, flags=re.IGNORECASE)\n",
    "    text = re.sub(r'^\\d+$', '', text, flags=re.MULTILINE)\n",
    "\n",
    "    # Remove weird special characters except standard punctuation and letters\n",
    "    text = re.sub(r'[^\\w\\s,.@-]', '', text)\n",
    "\n",
    "    # Strip leading/trailing whitespace\n",
    "    text = text.strip()\n",
    "\n",
    "    return text\n",
    "\n",
    "# Example usage:\n",
    "clean_text = preprocess_resume_text(text)\n",
    "print(clean_text[:1000])\n"
   ]
  },
  {
   "cell_type": "raw",
   "id": "94e8e391-b135-4d9d-a881-1860304ea2b5",
   "metadata": {},
   "source": [
    "Explanation:\n",
    "\\s+ → replaces multiple whitespace/newlines with a single space\n",
    "Removes page numbering like \"Page 1\" or lines with only digits\n",
    "Removes special characters except letters, digits, whitespace, comma, dot, @, and hyphen\n",
    "Strips leading and trailing spaces"
   ]
  },
  {
   "cell_type": "markdown",
   "id": "c967c336-2d96-4236-985a-37a67363d022",
   "metadata": {},
   "source": [
    "#  4.Create a GPT prompt like “Review this resume for a data analyst job."
   ]
  },
  {
   "cell_type": "code",
   "execution_count": 27,
   "id": "5a136cc9-0303-4c4f-83af-c8125d3cbf09",
   "metadata": {},
   "outputs": [
    {
     "name": "stdout",
     "output_type": "stream",
     "text": [
      "Please review the following resume and provide feedback for a data analyst position. Highlight strengths, weaknesses, and suggest improvements to make the resume more suitable for the role of data analyst. Here is the resume:\n",
      "\n",
      "VAISHNAVI MALI Turori, Omerga - 413606 vaishnavimali2244@gmail.com 9699387177 OBJECTIVE To pursue a promising and challenging career in a reputable organization where I can effectively apply my knowledge and skills, enabling me to fully explore my potential and contribute \n"
     ]
    }
   ],
   "source": [
    "def create_resume_review_prompt(resume_text, job_title=\"data analyst\"):\n",
    "    prompt = (\n",
    "        f\"Please review the following resume and provide feedback for a {job_title} position. \"\n",
    "        \"Highlight strengths, weaknesses, and suggest improvements to make the resume more suitable \"\n",
    "        f\"for the role of {job_title}. Here is the resume:\\n\\n{resume_text}\\n\\n\"\n",
    "        \"Please be concise and professional.\"\n",
    "    )\n",
    "    return prompt\n",
    "\n",
    "\n",
    "# Example usage:\n",
    "prompt = create_resume_review_prompt(clean_text, job_title=\"data analyst\")\n",
    "print(prompt[:500])  # print first 500 chars of the prompt\n"
   ]
  },
  {
   "cell_type": "raw",
   "id": "1bb1a146-765d-477e-9fb5-d28d20f9a3d0",
   "metadata": {},
   "source": [
    "What this prompt does:\n",
    "Clearly states the job title you want feedback for (e.g., \"data analyst\").\n",
    "Asks for strengths, weaknesses, and suggestions to improve.\n",
    "Includes the resume text so GPT has the context.\n",
    "Requests the response to be concise and professional."
   ]
  },
  {
   "cell_type": "markdown",
   "id": "5813b65e-c477-45cc-80db-c3c1deba8001",
   "metadata": {},
   "source": [
    "#  5.Use OpenAI to generate feedback"
   ]
  },
  {
   "cell_type": "code",
   "execution_count": null,
   "id": "3f72594b-6303-4f10-baf2-f2cf2ff6300b",
   "metadata": {},
   "outputs": [],
   "source": [
    "import openai\n",
    "\n",
    "# Initialize client\n",
    "client = openai.OpenAI(api_key=\"YOUR_OPENAI_API_KEY\")\n",
    "\n",
    "def get_resume_feedback(prompt):\n",
    "    response = client.chat.completions.create(\n",
    "        model=\"gpt-4o-mini\",  # or \"gpt-4\", \"gpt-3.5-turbo\"\n",
    "        messages=[\n",
    "            {\"role\": \"system\", \"content\": \"You are a helpful assistant who reviews resumes.\"},\n",
    "            {\"role\": \"user\", \"content\": prompt},\n",
    "        ],\n",
    "        max_tokens=500,\n",
    "        temperature=0.7,\n",
    "    )\n",
    "    return response.choices[0].message.content\n",
    "\n",
    "# Call your function\n",
    "feedback = get_resume_feedback(prompt)\n",
    "print(\"=== Resume Feedback ===\\n\")\n",
    "print(feedback)\n"
   ]
  },
  {
   "cell_type": "markdown",
   "id": "7870e779-d975-47a2-a7af-14c3dd7cc7d6",
   "metadata": {},
   "source": [
    "# 6.Highlight missing sections (skills, summary, etc.)"
   ]
  },
  {
   "cell_type": "code",
   "execution_count": 39,
   "id": "1c1438bb-734c-427c-89bb-94837f0d75c5",
   "metadata": {},
   "outputs": [
    {
     "name": "stdout",
     "output_type": "stream",
     "text": [
      "⚠️ The following important resume sections appear to be missing or not clearly labeled:\n",
      "summary, experience, projects, certifications, achievements, contact\n"
     ]
    }
   ],
   "source": [
    "def find_missing_sections(resume_text, expected_sections=None):\n",
    "    if expected_sections is None:\n",
    "        expected_sections = [\n",
    "            \"summary\",\n",
    "            \"skills\",\n",
    "            \"education\",\n",
    "            \"experience\",\n",
    "            \"projects\",\n",
    "            \"certifications\",\n",
    "            \"achievements\",\n",
    "            \"contact\",\n",
    "        ]\n",
    "\n",
    "    missing = []\n",
    "    text_lower = resume_text.lower()\n",
    "\n",
    "    for section in expected_sections:\n",
    "        if section not in text_lower:\n",
    "            missing.append(section)\n",
    "\n",
    "    if missing:\n",
    "        message = \"⚠️ The following important resume sections appear to be missing or not clearly labeled:\\n\"\n",
    "        message += \", \".join(missing)\n",
    "    else:\n",
    "        message = \"✅ All key resume sections appear to be present.\"\n",
    "\n",
    "    return message\n",
    "\n",
    "# Use your extracted text variable `text`\n",
    "missing_sections_message = find_missing_sections(text)\n",
    "print(missing_sections_message)\n"
   ]
  },
  {
   "cell_type": "markdown",
   "id": "a8d20881-ecda-4ba2-a81a-119c33dd15f0",
   "metadata": {},
   "source": [
    "#  7.Give a score and improvement tips.\n"
   ]
  },
  {
   "cell_type": "code",
   "execution_count": 42,
   "id": "0dbcb2cc-2b66-4620-975a-682dbdfb58ac",
   "metadata": {},
   "outputs": [
    {
     "name": "stdout",
     "output_type": "stream",
     "text": [
      "Resume Score: 25/100\n",
      "\n",
      "Improvement Tips:\n",
      "Consider adding or enhancing these sections:\n",
      "- A strong professional summary at the top highlighting your career goals and key skills.\n",
      "- Detailed work experience with achievements and responsibilities.\n",
      "- Projects demonstrating relevant experience and skills.\n",
      "- Relevant certifications that add value to your profile.\n",
      "- Achievements, awards, or recognitions to showcase your excellence.\n",
      "- Contact information for easy communication.\n"
     ]
    }
   ],
   "source": [
    "def score_resume_and_give_tips(resume_text, expected_sections=None):\n",
    "    if expected_sections is None:\n",
    "        expected_sections = [\n",
    "            \"summary\",\n",
    "            \"skills\",\n",
    "            \"education\",\n",
    "            \"experience\",\n",
    "            \"projects\",\n",
    "            \"certifications\",\n",
    "            \"achievements\",\n",
    "            \"contact\",\n",
    "        ]\n",
    "\n",
    "    text_lower = resume_text.lower()\n",
    "    missing = []\n",
    "    present_count = 0\n",
    "\n",
    "    for section in expected_sections:\n",
    "        if section in text_lower:\n",
    "            present_count += 1\n",
    "        else:\n",
    "            missing.append(section)\n",
    "\n",
    "    total_sections = len(expected_sections)\n",
    "    score = int((present_count / total_sections) * 100)\n",
    "\n",
    "    # Generate improvement tips for missing sections\n",
    "    tips = []\n",
    "    if missing:\n",
    "        tips.append(\"Consider adding or enhancing these sections:\")\n",
    "        for section in missing:\n",
    "            if section == \"summary\":\n",
    "                tips.append(\"- A strong professional summary at the top highlighting your career goals and key skills.\")\n",
    "            elif section == \"skills\":\n",
    "                tips.append(\"- A skills section listing relevant technical and soft skills.\")\n",
    "            elif section == \"education\":\n",
    "                tips.append(\"- Education details including degree, institution, and graduation year.\")\n",
    "            elif section == \"experience\":\n",
    "                tips.append(\"- Detailed work experience with achievements and responsibilities.\")\n",
    "            elif section == \"projects\":\n",
    "                tips.append(\"- Projects demonstrating relevant experience and skills.\")\n",
    "            elif section == \"certifications\":\n",
    "                tips.append(\"- Relevant certifications that add value to your profile.\")\n",
    "            elif section == \"achievements\":\n",
    "                tips.append(\"- Achievements, awards, or recognitions to showcase your excellence.\")\n",
    "            elif section == \"contact\":\n",
    "                tips.append(\"- Contact information for easy communication.\")\n",
    "\n",
    "    else:\n",
    "        tips.append(\"Great job! Your resume covers all key sections.\")\n",
    "\n",
    "    return score, \"\\n\".join(tips)\n",
    "\n",
    "# Example usage:\n",
    "score, improvement_tips = score_resume_and_give_tips(text)\n",
    "print(f\"Resume Score: {score}/100\\n\")\n",
    "print(\"Improvement Tips:\")\n",
    "print(improvement_tips)\n"
   ]
  },
  {
   "cell_type": "markdown",
   "id": "a093a482-5bbc-491e-81d7-12b5344534ad",
   "metadata": {},
   "source": [
    "#  8.Show response in formatted way"
   ]
  },
  {
   "cell_type": "code",
   "execution_count": 45,
   "id": "4c568b2b-1987-4c73-b855-bb0dba56f588",
   "metadata": {},
   "outputs": [
    {
     "data": {
      "text/markdown": [
       "\n",
       "# 📝 Resume Feedback\n",
       "\n",
       "**Score:** 25/100\n",
       "\n",
       "---\n",
       "\n",
       "## Improvement Tips:\n",
       "Consider adding or enhancing these sections:\n",
       "\n",
       "- - A strong professional summary at the top highlighting your career goals and key skills.\n",
       "\n",
       "- - Detailed work experience with achievements and responsibilities.\n",
       "\n",
       "- - Projects demonstrating relevant experience and skills.\n",
       "\n",
       "- - Relevant certifications that add value to your profile.\n",
       "\n",
       "- - Achievements, awards, or recognitions to showcase your excellence.\n",
       "\n",
       "- - Contact information for easy communication.\n"
      ],
      "text/plain": [
       "<IPython.core.display.Markdown object>"
      ]
     },
     "metadata": {},
     "output_type": "display_data"
    }
   ],
   "source": [
    "from IPython.display import Markdown, display\n",
    "\n",
    "def display_feedback(score, tips):\n",
    "    md_text = f\"\"\"\n",
    "# 📝 Resume Feedback\n",
    "\n",
    "**Score:** {score}/100\n",
    "\n",
    "---\n",
    "\n",
    "## Improvement Tips:\n",
    "{tips.replace('\\n', '\\n\\n- ')}\n",
    "\"\"\"\n",
    "    display(Markdown(md_text))\n",
    "\n",
    "# Example usage\n",
    "display_feedback(score, improvement_tips)\n"
   ]
  },
  {
   "cell_type": "markdown",
   "id": "43045b4e-8ad3-47e4-a16c-9c78d535b5b3",
   "metadata": {},
   "source": [
    "#  9.Log all feedbacks."
   ]
  },
  {
   "cell_type": "code",
   "execution_count": 48,
   "id": "1d20bc3c-107f-4e21-9ab7-fe7d6165c316",
   "metadata": {},
   "outputs": [
    {
     "name": "stdout",
     "output_type": "stream",
     "text": [
      "Feedback logged to resume_feedback_log.csv\n"
     ]
    }
   ],
   "source": [
    "import csv\n",
    "from datetime import datetime\n",
    "\n",
    "def log_feedback(file_path, resume_name, score, tips):\n",
    "    # Prepare data row\n",
    "    now = datetime.now().strftime(\"%Y-%m-%d %H:%M:%S\")\n",
    "    row = [now, resume_name, score, tips.replace('\\n', ' | ')]\n",
    "\n",
    "    # Write to CSV (append mode)\n",
    "    with open(file_path, mode='a', newline='', encoding='utf-8') as f:\n",
    "        writer = csv.writer(f)\n",
    "        # Write header if file is empty\n",
    "        if f.tell() == 0:\n",
    "            writer.writerow([\"Timestamp\", \"Resume Name\", \"Score\", \"Improvement Tips\"])\n",
    "        writer.writerow(row)\n",
    "\n",
    "# Example usage:\n",
    "log_file = \"resume_feedback_log.csv\"\n",
    "resume_filename = \"Vaishnavi_Mali.pdf\"  # or dynamically set\n",
    "log_feedback(log_file, resume_filename, score, improvement_tips)\n",
    "print(f\"Feedback logged to {log_file}\")\n"
   ]
  },
  {
   "cell_type": "raw",
   "id": "66b39c1a-0725-46c0-9d8d-b23301b5dace",
   "metadata": {},
   "source": [
    "Explanation:\n",
    "Each feedback entry records:\n",
    "Timestamp\n",
    "Resume filename or identifier\n",
    "Resume score\n",
    "Improvement tips (newlines replaced by pipe for CSV format)\n",
    "Appends new records so you keep history."
   ]
  },
  {
   "cell_type": "markdown",
   "id": "85fda057-de29-4d8d-914f-d5a82fc25608",
   "metadata": {},
   "source": [
    "#  10.Optionally, generate improved version using GPT."
   ]
  },
  {
   "cell_type": "markdown",
   "id": "128b1fbf-65fa-4a94-a85f-bbdbb66244c0",
   "metadata": {},
   "source": [
    "# Example GPT prompt for improvement:"
   ]
  },
  {
   "cell_type": "code",
   "execution_count": 54,
   "id": "5fd5ee2a-1a99-4bff-a274-b87f35ba2eaa",
   "metadata": {},
   "outputs": [],
   "source": [
    "def create_improvement_prompt(resume_text, job_title=\"data analyst\"):\n",
    "    prompt = (\n",
    "        f\"Please improve the following resume for a {job_title} position. \"\n",
    "        \"Rewrite it to make it clearer, more professional, and highlight key skills and achievements relevant to the role.\\n\\n\"\n",
    "        f\"Resume:\\n{resume_text}\\n\\n\"\n",
    "        \"Return the improved resume text only.\"\n",
    "    )\n",
    "    return prompt\n"
   ]
  },
  {
   "cell_type": "markdown",
   "id": "62e12e9e-92f3-4804-8495-3b5e251a56c5",
   "metadata": {},
   "source": [
    "# Example OpenAI call to get improved resume:"
   ]
  },
  {
   "cell_type": "code",
   "execution_count": null,
   "id": "7c3ed65a-a7e1-4011-8afc-021f796f1f04",
   "metadata": {},
   "outputs": [],
   "source": [
    "def generate_improved_resume(resume_text, job_title=\"data analyst\"):\n",
    "    prompt = create_improvement_prompt(resume_text, job_title)\n",
    "\n",
    "    response = client.chat.completions.create(\n",
    "        model=\"gpt-4o-mini\",  # or \"gpt-4\", \"gpt-3.5-turbo\"\n",
    "        messages=[\n",
    "            {\"role\": \"system\", \"content\": \"You are a professional resume writer.\"},\n",
    "            {\"role\": \"user\", \"content\": prompt},\n",
    "        ],\n",
    "        max_tokens=1000,\n",
    "        temperature=0.7,\n",
    "    )\n",
    "    return response.choices[0].message.content\n",
    "\n",
    "# Usage:\n",
    "improved_resume = generate_improved_resume(text, \"data analyst\")\n",
    "print(\"=== Improved Resume ===\\n\")\n",
    "print(improved_resume)\n"
   ]
  },
  {
   "cell_type": "code",
   "execution_count": null,
   "id": "6f0ccd1c-ee20-42f8-8c0f-101258180270",
   "metadata": {},
   "outputs": [],
   "source": []
  }
 ],
 "metadata": {
  "kernelspec": {
   "display_name": "Python [conda env:base] *",
   "language": "python",
   "name": "conda-base-py"
  },
  "language_info": {
   "codemirror_mode": {
    "name": "ipython",
    "version": 3
   },
   "file_extension": ".py",
   "mimetype": "text/x-python",
   "name": "python",
   "nbconvert_exporter": "python",
   "pygments_lexer": "ipython3",
   "version": "3.12.7"
  }
 },
 "nbformat": 4,
 "nbformat_minor": 5
}

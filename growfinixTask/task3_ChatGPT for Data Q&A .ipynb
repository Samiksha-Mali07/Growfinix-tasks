{
 "cells": [
  {
   "cell_type": "markdown",
   "id": "f04a86ca-1f97-4d9b-905b-07a2b08b4b7c",
   "metadata": {},
   "source": [
    " # Task 3 =  ChatGPT for Data Q&A "
   ]
  },
  {
   "cell_type": "markdown",
   "id": "9a215f7c-5cee-41a0-b6b4-50011389122a",
   "metadata": {},
   "source": [
    "# importing all necessary liabraries"
   ]
  },
  {
   "cell_type": "code",
   "execution_count": 1,
   "id": "3dff29bc-51bb-4ece-8e4a-8f5fbc4cc6d3",
   "metadata": {},
   "outputs": [],
   "source": [
    "import pandas as pd       \n",
    "import numpy as np "
   ]
  },
  {
   "cell_type": "markdown",
   "id": "423ae763-2ea9-4d31-a93a-d5211249157f",
   "metadata": {},
   "source": [
    " # 1.Upload a sample CSV (like student marks, sales, etc.)"
   ]
  },
  {
   "cell_type": "code",
   "execution_count": 3,
   "id": "8424d5f5-273d-41f1-8802-25643206ae71",
   "metadata": {},
   "outputs": [],
   "source": [
    "df=pd.read_csv(r'C:\\Users\\admin\\Downloads\\StudentsPerformance.csv')"
   ]
  },
  {
   "cell_type": "markdown",
   "id": "fbcccd6d-16aa-4ea1-83dc-05c924ee5550",
   "metadata": {},
   "source": [
    " # 2.Extract basic info (columns, rows, sample data)"
   ]
  },
  {
   "cell_type": "markdown",
   "id": "16822262-6ebf-47cf-a522-e25df4fab972",
   "metadata": {},
   "source": [
    "# # Number of rows and columns"
   ]
  },
  {
   "cell_type": "code",
   "execution_count": 6,
   "id": "c2947ef2-be31-4518-ac10-058b8ef78967",
   "metadata": {},
   "outputs": [
    {
     "name": "stdout",
     "output_type": "stream",
     "text": [
      "Shape of the dataset: (1000, 8)\n"
     ]
    }
   ],
   "source": [
    "print(\"Shape of the dataset:\", df.shape)"
   ]
  },
  {
   "cell_type": "markdown",
   "id": "ff1d1d1b-aa28-4891-a23b-cc2ba2234f01",
   "metadata": {},
   "source": [
    "# Column names"
   ]
  },
  {
   "cell_type": "code",
   "execution_count": 8,
   "id": "2aa6dfe9-ef83-4db0-93ad-59bd5f421594",
   "metadata": {},
   "outputs": [
    {
     "name": "stdout",
     "output_type": "stream",
     "text": [
      "\n",
      "Columns in the dataset: ['gender', 'race/ethnicity', 'parental level of education', 'lunch', 'test preparation course', 'math score', 'reading score', 'writing score']\n"
     ]
    }
   ],
   "source": [
    "print(\"\\nColumns in the dataset:\", df.columns.tolist())"
   ]
  },
  {
   "cell_type": "markdown",
   "id": "b843bf26-030e-4156-adc1-30f1d55eb0b4",
   "metadata": {},
   "source": [
    "# Show first 5 rows"
   ]
  },
  {
   "cell_type": "code",
   "execution_count": 33,
   "id": "f93c992f-5ae5-4e25-ab2f-2918b77d9095",
   "metadata": {},
   "outputs": [
    {
     "data": {
      "text/html": [
       "<div>\n",
       "<style scoped>\n",
       "    .dataframe tbody tr th:only-of-type {\n",
       "        vertical-align: middle;\n",
       "    }\n",
       "\n",
       "    .dataframe tbody tr th {\n",
       "        vertical-align: top;\n",
       "    }\n",
       "\n",
       "    .dataframe thead th {\n",
       "        text-align: right;\n",
       "    }\n",
       "</style>\n",
       "<table border=\"1\" class=\"dataframe\">\n",
       "  <thead>\n",
       "    <tr style=\"text-align: right;\">\n",
       "      <th></th>\n",
       "      <th>gender</th>\n",
       "      <th>race/ethnicity</th>\n",
       "      <th>parental level of education</th>\n",
       "      <th>lunch</th>\n",
       "      <th>test preparation course</th>\n",
       "      <th>math score</th>\n",
       "      <th>reading score</th>\n",
       "      <th>writing score</th>\n",
       "    </tr>\n",
       "  </thead>\n",
       "  <tbody>\n",
       "    <tr>\n",
       "      <th>0</th>\n",
       "      <td>female</td>\n",
       "      <td>group B</td>\n",
       "      <td>bachelor's degree</td>\n",
       "      <td>standard</td>\n",
       "      <td>none</td>\n",
       "      <td>72</td>\n",
       "      <td>72</td>\n",
       "      <td>74</td>\n",
       "    </tr>\n",
       "    <tr>\n",
       "      <th>1</th>\n",
       "      <td>female</td>\n",
       "      <td>group C</td>\n",
       "      <td>some college</td>\n",
       "      <td>standard</td>\n",
       "      <td>completed</td>\n",
       "      <td>69</td>\n",
       "      <td>90</td>\n",
       "      <td>88</td>\n",
       "    </tr>\n",
       "    <tr>\n",
       "      <th>2</th>\n",
       "      <td>female</td>\n",
       "      <td>group B</td>\n",
       "      <td>master's degree</td>\n",
       "      <td>standard</td>\n",
       "      <td>none</td>\n",
       "      <td>90</td>\n",
       "      <td>95</td>\n",
       "      <td>93</td>\n",
       "    </tr>\n",
       "    <tr>\n",
       "      <th>3</th>\n",
       "      <td>male</td>\n",
       "      <td>group A</td>\n",
       "      <td>associate's degree</td>\n",
       "      <td>free/reduced</td>\n",
       "      <td>none</td>\n",
       "      <td>47</td>\n",
       "      <td>57</td>\n",
       "      <td>44</td>\n",
       "    </tr>\n",
       "    <tr>\n",
       "      <th>4</th>\n",
       "      <td>male</td>\n",
       "      <td>group C</td>\n",
       "      <td>some college</td>\n",
       "      <td>standard</td>\n",
       "      <td>none</td>\n",
       "      <td>76</td>\n",
       "      <td>78</td>\n",
       "      <td>75</td>\n",
       "    </tr>\n",
       "  </tbody>\n",
       "</table>\n",
       "</div>"
      ],
      "text/plain": [
       "   gender race/ethnicity parental level of education         lunch  \\\n",
       "0  female        group B           bachelor's degree      standard   \n",
       "1  female        group C                some college      standard   \n",
       "2  female        group B             master's degree      standard   \n",
       "3    male        group A          associate's degree  free/reduced   \n",
       "4    male        group C                some college      standard   \n",
       "\n",
       "  test preparation course  math score  reading score  writing score  \n",
       "0                    none          72             72             74  \n",
       "1               completed          69             90             88  \n",
       "2                    none          90             95             93  \n",
       "3                    none          47             57             44  \n",
       "4                    none          76             78             75  "
      ]
     },
     "execution_count": 33,
     "metadata": {},
     "output_type": "execute_result"
    }
   ],
   "source": [
    "df.head()"
   ]
  },
  {
   "cell_type": "markdown",
   "id": "214cbd78-c2a0-4d8a-9c6d-f979267bd3c5",
   "metadata": {},
   "source": [
    " # 3.Convert table to string (small dataset only)"
   ]
  },
  {
   "cell_type": "markdown",
   "id": "96d97e8e-637a-4436-8bd2-a778b3f762b6",
   "metadata": {},
   "source": [
    "# # Step 1: Create a small dataset"
   ]
  },
  {
   "cell_type": "code",
   "execution_count": 10,
   "id": "1da9ddb7-b301-4b2f-ae0f-d3e4036e5f13",
   "metadata": {},
   "outputs": [],
   "source": [
    "data = {\n",
    "    'StudentID': [101, 102, 103, 104, 105],\n",
    "    'Name': ['Alice', 'Bob', 'Charlie', 'David', 'Eva'],\n",
    "    'Math': [88, 75, 92, 85, 79],\n",
    "    'Science': [90, 80, 85, 88, 84],\n",
    "    'English': [82, 78, 88, 76, 91],\n",
    "    'History': [85, 89, 90, 83, 87]\n",
    "}\n"
   ]
  },
  {
   "cell_type": "markdown",
   "id": "be73ae86-17cb-4fbe-822d-3adf1b7b0730",
   "metadata": {},
   "source": [
    "# storing these data into Datafeame"
   ]
  },
  {
   "cell_type": "code",
   "execution_count": 13,
   "id": "13a60227-d462-45dd-a206-e64f75d978a1",
   "metadata": {},
   "outputs": [],
   "source": [
    "df1 = pd.DataFrame(data)"
   ]
  },
  {
   "cell_type": "code",
   "execution_count": 15,
   "id": "5ca21bc0-b3aa-4c3b-83eb-4e011fa41995",
   "metadata": {},
   "outputs": [
    {
     "data": {
      "text/html": [
       "<div>\n",
       "<style scoped>\n",
       "    .dataframe tbody tr th:only-of-type {\n",
       "        vertical-align: middle;\n",
       "    }\n",
       "\n",
       "    .dataframe tbody tr th {\n",
       "        vertical-align: top;\n",
       "    }\n",
       "\n",
       "    .dataframe thead th {\n",
       "        text-align: right;\n",
       "    }\n",
       "</style>\n",
       "<table border=\"1\" class=\"dataframe\">\n",
       "  <thead>\n",
       "    <tr style=\"text-align: right;\">\n",
       "      <th></th>\n",
       "      <th>StudentID</th>\n",
       "      <th>Name</th>\n",
       "      <th>Math</th>\n",
       "      <th>Science</th>\n",
       "      <th>English</th>\n",
       "      <th>History</th>\n",
       "    </tr>\n",
       "  </thead>\n",
       "  <tbody>\n",
       "    <tr>\n",
       "      <th>0</th>\n",
       "      <td>101</td>\n",
       "      <td>Alice</td>\n",
       "      <td>88</td>\n",
       "      <td>90</td>\n",
       "      <td>82</td>\n",
       "      <td>85</td>\n",
       "    </tr>\n",
       "    <tr>\n",
       "      <th>1</th>\n",
       "      <td>102</td>\n",
       "      <td>Bob</td>\n",
       "      <td>75</td>\n",
       "      <td>80</td>\n",
       "      <td>78</td>\n",
       "      <td>89</td>\n",
       "    </tr>\n",
       "    <tr>\n",
       "      <th>2</th>\n",
       "      <td>103</td>\n",
       "      <td>Charlie</td>\n",
       "      <td>92</td>\n",
       "      <td>85</td>\n",
       "      <td>88</td>\n",
       "      <td>90</td>\n",
       "    </tr>\n",
       "    <tr>\n",
       "      <th>3</th>\n",
       "      <td>104</td>\n",
       "      <td>David</td>\n",
       "      <td>85</td>\n",
       "      <td>88</td>\n",
       "      <td>76</td>\n",
       "      <td>83</td>\n",
       "    </tr>\n",
       "    <tr>\n",
       "      <th>4</th>\n",
       "      <td>105</td>\n",
       "      <td>Eva</td>\n",
       "      <td>79</td>\n",
       "      <td>84</td>\n",
       "      <td>91</td>\n",
       "      <td>87</td>\n",
       "    </tr>\n",
       "  </tbody>\n",
       "</table>\n",
       "</div>"
      ],
      "text/plain": [
       "   StudentID     Name  Math  Science  English  History\n",
       "0        101    Alice    88       90       82       85\n",
       "1        102      Bob    75       80       78       89\n",
       "2        103  Charlie    92       85       88       90\n",
       "3        104    David    85       88       76       83\n",
       "4        105      Eva    79       84       91       87"
      ]
     },
     "execution_count": 15,
     "metadata": {},
     "output_type": "execute_result"
    }
   ],
   "source": [
    "df1"
   ]
  },
  {
   "cell_type": "markdown",
   "id": "1db79280-1170-4f1a-997f-5350410e3ae4",
   "metadata": {},
   "source": [
    "# Converting the table to a string"
   ]
  },
  {
   "cell_type": "code",
   "execution_count": 18,
   "id": "554552ef-c28f-47db-903f-ad058b6c8755",
   "metadata": {},
   "outputs": [
    {
     "name": "stdout",
     "output_type": "stream",
     "text": [
      " StudentID    Name  Math  Science  English  History\n",
      "       101   Alice    88       90       82       85\n",
      "       102     Bob    75       80       78       89\n",
      "       103 Charlie    92       85       88       90\n",
      "       104   David    85       88       76       83\n",
      "       105     Eva    79       84       91       87\n"
     ]
    }
   ],
   "source": [
    "table_string = df1.to_string(index=False)\n",
    "print(table_string)"
   ]
  },
  {
   "cell_type": "markdown",
   "id": "fa2dcdfe-a03c-497c-ab22-154c7e61fd75",
   "metadata": {},
   "source": [
    " # 4.Ask GPT: “Top student in Math?"
   ]
  },
  {
   "cell_type": "code",
   "execution_count": 21,
   "id": "0a9ab5aa-9741-4f7e-b03c-ede547da20f6",
   "metadata": {},
   "outputs": [
    {
     "name": "stdout",
     "output_type": "stream",
     "text": [
      "Top student in Math:\n",
      "StudentID        103\n",
      "Name         Charlie\n",
      "Math              92\n",
      "Science           85\n",
      "English           88\n",
      "History           90\n",
      "Name: 2, dtype: object\n"
     ]
    }
   ],
   "source": [
    "top_math_student = df1.loc[df1['Math'].idxmax()]\n",
    "print(\"Top student in Math:\")\n",
    "print(top_math_student)\n"
   ]
  },
  {
   "cell_type": "markdown",
   "id": "e58e06dc-514b-48fe-a257-f6f55726483f",
   "metadata": {},
   "source": [
    "# 5.Use OpenAI API to send prompt and get answer"
   ]
  },
  {
   "cell_type": "markdown",
   "id": "cd8f028b-93e8-4183-a61f-12914c1da329",
   "metadata": {},
   "source": [
    "# 1. Installing OpenAI Python package"
   ]
  },
  {
   "cell_type": "code",
   "execution_count": null,
   "id": "e5127145-2060-45f3-9cd6-48425e188058",
   "metadata": {},
   "outputs": [],
   "source": [
    "pip install openai"
   ]
  },
  {
   "cell_type": "markdown",
   "id": "c3864b8b-2005-47c8-b93a-a5c6dbc1c201",
   "metadata": {},
   "source": [
    "# my OpenAI API key"
   ]
  },
  {
   "cell_type": "code",
   "execution_count": 28,
   "id": "975d6811-ede9-4621-b181-743d7e201031",
   "metadata": {},
   "outputs": [],
   "source": [
    "import openai"
   ]
  },
  {
   "cell_type": "code",
   "execution_count": 29,
   "id": "02e8f0b3-6bc5-4455-9dc4-d8f517ddd367",
   "metadata": {},
   "outputs": [],
   "source": [
    "openai.api_key = \"MY_API_KEY\""
   ]
  },
  {
   "cell_type": "markdown",
   "id": "b1d77af9-8aa8-4591-be82-4f70a89b5653",
   "metadata": {},
   "source": [
    "#  Sample data with possible NaNs"
   ]
  },
  {
   "cell_type": "code",
   "execution_count": 32,
   "id": "f454c3e5-86ac-429e-bf54-0cb4df4b7e83",
   "metadata": {},
   "outputs": [],
   "source": [
    "data = {\n",
    "    'StudentID': [101, 102, 103, 104, 105],\n",
    "    'Name': ['Alice', 'Bob', 'Charlie', 'David', 'Eva'],\n",
    "    'Math': [88, None, 92, 85, 79],  # Bob's Math score is missing\n",
    "    'Science': [90, 80, 85, 88, 84],\n",
    "    'English': [82, 78, 88, None, 91],  # David's English score is missing\n",
    "    'History': [85, 89, 90, 83, 87]\n",
    "}"
   ]
  },
  {
   "cell_type": "markdown",
   "id": "c34209da-d1fb-44c6-8846-89a930e67a1e",
   "metadata": {},
   "source": [
    "# storing all data in dataframe"
   ]
  },
  {
   "cell_type": "code",
   "execution_count": 35,
   "id": "46db6f99-e64d-48f4-a1b4-d0cbb80ea2b2",
   "metadata": {},
   "outputs": [],
   "source": [
    "df2 = pd.DataFrame(data)"
   ]
  },
  {
   "cell_type": "markdown",
   "id": "67ffd6a4-bf67-4cd9-944d-0e18ae777a0f",
   "metadata": {},
   "source": [
    "# Fill NaNs with 'N/A' or other placeholder for clarity in prompt"
   ]
  },
  {
   "cell_type": "code",
   "execution_count": 38,
   "id": "d60bc4be-f0e8-46c2-9868-af78221322b4",
   "metadata": {},
   "outputs": [],
   "source": [
    "df_clean = df2.fillna('N/A')"
   ]
  },
  {
   "cell_type": "markdown",
   "id": "0c511605-d321-4a54-8fe2-48f623ae4c94",
   "metadata": {},
   "source": [
    "# Convert dataframe to string without index"
   ]
  },
  {
   "cell_type": "code",
   "execution_count": 41,
   "id": "c2ad8242-31b2-49f7-8017-a332409f1006",
   "metadata": {},
   "outputs": [],
   "source": [
    "table_str = df_clean.to_string(index=False)"
   ]
  },
  {
   "cell_type": "markdown",
   "id": "42fd2a77-75ef-4ae2-8ed1-1df7814cf74a",
   "metadata": {},
   "source": [
    "# Compose prompt with dataset and question"
   ]
  },
  {
   "cell_type": "code",
   "execution_count": 44,
   "id": "eed2f6a5-73df-4c91-94bd-a71110436003",
   "metadata": {},
   "outputs": [],
   "source": [
    "prompt = f\"\"\"\n",
    "Here is a dataset of student marks:\n",
    "\n",
    "{table_str}\n",
    "\n",
    "Question: Who is the top student in Math?\n",
    "\"\"\""
   ]
  },
  {
   "cell_type": "markdown",
   "id": "36b23414-abfc-40a6-b501-bf33d5436639",
   "metadata": {},
   "source": [
    "# Call OpenAI API"
   ]
  },
  {
   "cell_type": "code",
   "execution_count": 47,
   "id": "cee71941-c968-4dd4-a1df-656932657fb8",
   "metadata": {},
   "outputs": [],
   "source": [
    "from openai import OpenAI\n",
    "\n",
    "# Set your actual OpenAI API key here\n",
    "client = OpenAI(api_key=\"sk-xxxxxxxxxxxxxxxxxxxxxxxxxxxx\")  # 🔁 Replace with your real key\n"
   ]
  },
  {
   "cell_type": "code",
   "execution_count": null,
   "id": "cc880fb2-4c2d-40e5-ae1c-2a0a11be545c",
   "metadata": {},
   "outputs": [],
   "source": [
    "prompt = \"Who is the top student in Math?\"\n",
    "\n",
    "response = client.chat.completions.create(\n",
    "    model=\"gpt-4\",\n",
    "    messages=[\n",
    "        {\"role\": \"system\", \"content\": \"You are a helpful data analyst.\"},\n",
    "        {\"role\": \"user\", \"content\": prompt}\n",
    "    ],\n",
    "    max_tokens=100,\n",
    "    temperature=0\n",
    ")a\n",
    "\n",
    "print(\"GPT's answer:\\n\", response.choices[0].message.content)"
   ]
  },
  {
   "cell_type": "markdown",
   "id": "d413f368-5a08-46ca-944e-8e97e26fd82b",
   "metadata": {},
   "source": [
    "# 6.Parse answer and show in console or web page"
   ]
  },
  {
   "cell_type": "code",
   "execution_count": null,
   "id": "112e2c06-13de-4b4b-a650-4784dad644cf",
   "metadata": {},
   "outputs": [],
   "source": [
    "import openai\n",
    "\n",
    "openai.api_key = \"your-api-key-here\"\n",
    "\n",
    "response = openai.ChatCompletion.create(\n",
    "    model=\"gpt-4\",\n",
    "    messages=[\n",
    "        {\"role\": \"system\", \"content\": \"You are a helpful data analyst.\"},\n",
    "        {\"role\": \"user\", \"content\": \"Who is the top student in Math?\"}\n",
    "    ]\n",
    ")\n",
    "\n",
    "answer = response.choices[0].message.content.strip()\n",
    "print(\"GPT's answer:\", answer)"
   ]
  },
  {
   "cell_type": "markdown",
   "id": "c1191db8-b267-4ddd-8fcf-057579a2ca41",
   "metadata": {},
   "source": [
    "# 🌐 Web Page Version (Flask)"
   ]
  },
  {
   "cell_type": "code",
   "execution_count": null,
   "id": "d46fea02-f5ef-4f58-8529-32d242a7657f",
   "metadata": {},
   "outputs": [],
   "source": [
    "from flask import Flask\n",
    "import openai\n",
    "\n",
    "app = Flask(__name__)\n",
    "openai.api_key = \"your-api-key-here\"\n",
    "\n",
    "@app.route(\"/\")\n",
    "def index():\n",
    "    response = openai.ChatCompletion.create(\n",
    "        model=\"gpt-4\",\n",
    "        messages=[\n",
    "            {\"role\": \"system\", \"content\": \"You are a helpful data analyst.\"},\n",
    "            {\"role\": \"user\", \"content\": \"Who is the top student in Math?\"}\n",
    "        ]\n",
    "    )\n",
    "    answer = response.choices[0].message.content.strip()\n",
    "    return f\"<h1>GPT's answer:</h1><p>{answer}</p>\"\n",
    "\n",
    "if __name__ == \"__main__\":\n",
    "    app.run()\n"
   ]
  },
  {
   "cell_type": "markdown",
   "id": "39ad80c6-7b7a-4cbb-958d-de22fb84b60e",
   "metadata": {},
   "source": [
    "#  7.Add predefined questions as buttons (optional)"
   ]
  },
  {
   "cell_type": "markdown",
   "id": "b6107b67-f2ec-4fa6-9c60-c77e450cca89",
   "metadata": {},
   "source": [
    "Show buttons like:\n",
    "🔘 \"Who is the top student in Math?\"\n",
    "🔘 \"What is the average score?\"\n",
    "🔘 \"List all students above 90%\"\n",
    "\n",
    "When a button is clicked, it sends the question to GPT and shows the answer."
   ]
  },
  {
   "cell_type": "markdown",
   "id": "46b62c71-7a4c-4582-bcc9-a80684fee1ea",
   "metadata": {},
   "source": [
    "# ✅ Minimal Flask App with Buttons"
   ]
  },
  {
   "cell_type": "code",
   "execution_count": null,
   "id": "493d176e-5dc5-4b98-af55-5c92ca5e8626",
   "metadata": {},
   "outputs": [],
   "source": [
    "from flask import Flask, request\n",
    "import openai\n",
    "\n",
    "app = Flask(__name__)\n",
    "client = openai.OpenAI(api_key=\"your-api-key-here\")\n",
    "\n",
    "# Predefined questions\n",
    "questions = [\n",
    "    \"Who is the top student in Math?\",\n",
    "    \"What is the average score?\",\n",
    "    \"List all students above 90%\"\n",
    "]\n",
    "\n",
    "@app.route(\"/\", methods=[\"GET\", \"POST\"])\n",
    "def index():\n",
    "    answer = \"\"\n",
    "    if request.method == \"POST\":\n",
    "        question = request.form[\"question\"]\n",
    "        response = client.chat.completions.create(\n",
    "            model=\"gpt-4\",\n",
    "            messages=[\n",
    "                {\"role\": \"system\", \"content\": \"You are a helpful data analyst.\"},\n",
    "                {\"role\": \"user\", \"content\": question}\n",
    "            ]\n",
    "        )\n",
    "        answer = response.choices[0].message.content.strip()\n",
    "\n",
    "    html = \"<h2>Select a question:</h2><form method='post'>\"\n",
    "    for q in questions:\n",
    "        html += f\"<button name='question' value='{q}'>{q}</button><br><br>\"\n",
    "    html += \"</form>\"\n",
    "\n",
    "    if answer:\n",
    "        html += f\"<h3>GPT's answer:</h3><p>{answer}</p>\"\n",
    "\n",
    "    return html\n",
    "\n",
    "if __name__ == \"__main__\":\n",
    "    app.run()\n"
   ]
  },
  {
   "cell_type": "markdown",
   "id": "7045b463-3424-4754-bf31-67a75b0af04a",
   "metadata": {},
   "source": [
    "#  8.Log all questions and answers"
   ]
  },
  {
   "cell_type": "markdown",
   "id": "2b71cd50-af9b-4b50-8342-d0592d243f3c",
   "metadata": {},
   "source": [
    "# Updated Flask App (with Logging)"
   ]
  },
  {
   "cell_type": "code",
   "execution_count": null,
   "id": "9904dcef-d638-4950-8774-53647b71a65a",
   "metadata": {},
   "outputs": [],
   "source": [
    "from flask import Flask, request\n",
    "import openai\n",
    "from datetime import datetime\n",
    "\n",
    "app = Flask(__name__)\n",
    "client = openai.OpenAI(api_key=\"your-api-key-here\")\n",
    "\n",
    "# Predefined questions\n",
    "questions = [\n",
    "    \"Who is the top student in Math?\",\n",
    "    \"What is the average score?\",\n",
    "    \"List all students above 90%\"\n",
    "]\n",
    "\n",
    "LOG_FILE = \"qna_log.txt\"\n",
    "\n",
    "def log_question_answer(question, answer):\n",
    "    timestamp = datetime.now().strftime(\"%Y-%m-%d %H:%M:%S\")\n",
    "    with open(LOG_FILE, \"a\", encoding=\"utf-8\") as log:\n",
    "        log.write(f\"[{timestamp}] Q: {question}\\nA: {answer}\\n\\n\")\n",
    "\n",
    "@app.route(\"/\", methods=[\"GET\", \"POST\"])\n",
    "def index():\n",
    "    answer = \"\"\n",
    "    if request.method == \"POST\":\n",
    "        question = request.form[\"question\"]\n",
    "        response = client.chat.completions.create(\n",
    "            model=\"gpt-4\",\n",
    "            messages=[\n",
    "                {\"role\": \"system\", \"content\": \"You are a helpful data analyst.\"},\n",
    "                {\"role\": \"user\", \"content\": question}\n",
    "            ]\n",
    "        )\n",
    "        answer = response.choices[0].message.content.strip()\n",
    "\n",
    "        # 🔴 Log the Q&A\n",
    "        log_question_answer(question, answer)\n",
    "\n",
    "    html = \"<h2>Select a question:</h2><form method='post'>\"\n",
    "    for q in questions:\n",
    "        html += f\"<button name='question' value='{q}'>{q}</button><br><br>\"\n",
    "    html += \"</form>\"\n",
    "\n",
    "    if answer:\n",
    "        html += f\"<h3>GPT's answer:</h3><p>{answer}</p>\"\n",
    "\n",
    "    return html\n",
    "\n",
    "if __name__ == \"__main__\":\n",
    "    app.run()\n"
   ]
  },
  {
   "cell_type": "markdown",
   "id": "f2fa8a8d-2e6d-444c-9f17-3356e5e574da",
   "metadata": {},
   "source": [
    "# 📁 Output in qna_log.txt:"
   ]
  },
  {
   "cell_type": "markdown",
   "id": "005c7d35-afa1-40dd-a750-6c737e3479e4",
   "metadata": {},
   "source": [
    "[2025-08-30 15:20:15] Q: Who is the top student in Math?\n",
    "A: The top student in Math is Alice Johnson with a score of 98.\n",
    "\n",
    "[2025-08-30 15:22:02] Q: What is the average score?\n",
    "A: The average score is 87.4%.\n"
   ]
  },
  {
   "cell_type": "markdown",
   "id": "c2a1a0ec-0987-47c8-8ac2-db459a47f4f1",
   "metadata": {},
   "source": [
    "#  9.Handle large data by summarizing it first"
   ]
  },
  {
   "cell_type": "code",
   "execution_count": 70,
   "id": "af5818b1-294a-4111-872e-8ff06ae8a3e6",
   "metadata": {},
   "outputs": [
    {
     "data": {
      "text/html": [
       "<div>\n",
       "<style scoped>\n",
       "    .dataframe tbody tr th:only-of-type {\n",
       "        vertical-align: middle;\n",
       "    }\n",
       "\n",
       "    .dataframe tbody tr th {\n",
       "        vertical-align: top;\n",
       "    }\n",
       "\n",
       "    .dataframe thead th {\n",
       "        text-align: right;\n",
       "    }\n",
       "</style>\n",
       "<table border=\"1\" class=\"dataframe\">\n",
       "  <thead>\n",
       "    <tr style=\"text-align: right;\">\n",
       "      <th></th>\n",
       "      <th>StudentID</th>\n",
       "      <th>Name</th>\n",
       "      <th>Math</th>\n",
       "      <th>Science</th>\n",
       "      <th>English</th>\n",
       "      <th>History</th>\n",
       "    </tr>\n",
       "  </thead>\n",
       "  <tbody>\n",
       "    <tr>\n",
       "      <th>0</th>\n",
       "      <td>101</td>\n",
       "      <td>Alice</td>\n",
       "      <td>88.0</td>\n",
       "      <td>90</td>\n",
       "      <td>82.0</td>\n",
       "      <td>85</td>\n",
       "    </tr>\n",
       "    <tr>\n",
       "      <th>1</th>\n",
       "      <td>102</td>\n",
       "      <td>Bob</td>\n",
       "      <td>NaN</td>\n",
       "      <td>80</td>\n",
       "      <td>78.0</td>\n",
       "      <td>89</td>\n",
       "    </tr>\n",
       "    <tr>\n",
       "      <th>2</th>\n",
       "      <td>103</td>\n",
       "      <td>Charlie</td>\n",
       "      <td>92.0</td>\n",
       "      <td>85</td>\n",
       "      <td>88.0</td>\n",
       "      <td>90</td>\n",
       "    </tr>\n",
       "    <tr>\n",
       "      <th>3</th>\n",
       "      <td>104</td>\n",
       "      <td>David</td>\n",
       "      <td>85.0</td>\n",
       "      <td>88</td>\n",
       "      <td>NaN</td>\n",
       "      <td>83</td>\n",
       "    </tr>\n",
       "    <tr>\n",
       "      <th>4</th>\n",
       "      <td>105</td>\n",
       "      <td>Eva</td>\n",
       "      <td>79.0</td>\n",
       "      <td>84</td>\n",
       "      <td>91.0</td>\n",
       "      <td>87</td>\n",
       "    </tr>\n",
       "  </tbody>\n",
       "</table>\n",
       "</div>"
      ],
      "text/plain": [
       "   StudentID     Name  Math  Science  English  History\n",
       "0        101    Alice  88.0       90     82.0       85\n",
       "1        102      Bob   NaN       80     78.0       89\n",
       "2        103  Charlie  92.0       85     88.0       90\n",
       "3        104    David  85.0       88      NaN       83\n",
       "4        105      Eva  79.0       84     91.0       87"
      ]
     },
     "execution_count": 70,
     "metadata": {},
     "output_type": "execute_result"
    }
   ],
   "source": [
    "# loading dataset\n",
    "df2"
   ]
  },
  {
   "cell_type": "markdown",
   "id": "4226c475-a49d-4451-bcc6-2ac03c3ad37c",
   "metadata": {},
   "source": [
    "# Convert to Text for GPT"
   ]
  },
  {
   "cell_type": "code",
   "execution_count": 73,
   "id": "166a5d12-19b5-4750-a491-68c85fc9c532",
   "metadata": {},
   "outputs": [],
   "source": [
    "# Fill NaNs for display\n",
    "df_display = df2.fillna(\"Missing\")\n",
    "\n",
    "# Convert to readable text (CSV-style string for GPT)\n",
    "data_text = df_display.to_string(index=False)\n"
   ]
  },
  {
   "cell_type": "markdown",
   "id": "a1b5f2be-cfee-4880-b928-be9ef243ab19",
   "metadata": {},
   "source": [
    "# Summarize the Data via GPT"
   ]
  },
  {
   "cell_type": "code",
   "execution_count": null,
   "id": "81394aa5-69c6-4078-b149-20121d1d9e5e",
   "metadata": {},
   "outputs": [],
   "source": [
    "import openai\n",
    "\n",
    "client = openai.OpenAI(api_key=\"your-api-key-here\")\n",
    "\n",
    "# Summarize the structured data\n",
    "summary_prompt = f\"Summarize the following student data:\\n\\n{data_text}\"\n",
    "\n",
    "response = client.chat.completions.create(\n",
    "    model=\"gpt-4\",\n",
    "    messages=[\n",
    "        {\"role\": \"system\", \"content\": \"You are a helpful data analyst.\"},\n",
    "        {\"role\": \"user\", \"content\": summary_prompt}\n",
    "    ]\n",
    ")\n",
    "\n",
    "summary = response.choices[0].message.content.strip()\n",
    "print(\"Summary:\\n\", summary)\n"
   ]
  },
  {
   "cell_type": "markdown",
   "id": "52de858c-0593-490b-a209-6c99b83d1e60",
   "metadata": {},
   "source": [
    "#  10.Export Q&A as PDF report"
   ]
  },
  {
   "cell_type": "markdown",
   "id": "7c349b5e-2d8e-4718-a872-7410b9abe629",
   "metadata": {},
   "source": [
    "# Libraries Needed"
   ]
  },
  {
   "cell_type": "code",
   "execution_count": null,
   "id": "4aa6e5b8-5f84-44f1-91fb-3bcfab6e3361",
   "metadata": {},
   "outputs": [],
   "source": [
    "pip install fpdf flask openai"
   ]
  },
  {
   "cell_type": "markdown",
   "id": "a88ad32c-463d-4a00-9151-8abc09c64dcb",
   "metadata": {},
   "source": [
    "# Updated Flask App (with PDF Export)"
   ]
  },
  {
   "cell_type": "code",
   "execution_count": null,
   "id": "7a597b0e-1577-4af3-b210-5fcdbc794c49",
   "metadata": {},
   "outputs": [],
   "source": [
    "from flask import Flask, request, send_file\n",
    "import openai\n",
    "from datetime import datetime\n",
    "from fpdf import FPDF\n",
    "\n",
    "app = Flask(__name__)\n",
    "client = openai.OpenAI(api_key=\"your-api-key-here\")\n",
    "\n",
    "questions = [\n",
    "    \"Who is the top student in Math?\",\n",
    "    \"What is the average score?\",\n",
    "    \"List all students above 90%\"\n",
    "]\n",
    "\n",
    "LOG_FILE = \"qna_log.txt\"\n",
    "PDF_FILE = \"report.pdf\"\n",
    "\n",
    "# Load and summarize your data once here if needed (optional)\n",
    "\n",
    "def log_question_answer(question, answer):\n",
    "    timestamp = datetime.now().strftime(\"%Y-%m-%d %H:%M:%S\")\n",
    "    with open(LOG_FILE, \"a\", encoding=\"utf-8\") as log:\n",
    "        log.write(f\"[{timestamp}] Q: {question}\\nA: {answer}\\n\\n\")\n",
    "\n",
    "def generate_pdf_report():\n",
    "    pdf = FPDF()\n",
    "    pdf.add_page()\n",
    "    pdf.set_font(\"Arial\", size=12)\n",
    "\n",
    "    with open(LOG_FILE, \"r\", encoding=\"utf-8\") as f:\n",
    "        lines = f.readlines()\n",
    "\n",
    "    for line in lines:\n",
    "        pdf.multi_cell(0, 10, line)\n",
    "\n",
    "    pdf.output(PDF_FILE)\n",
    "\n",
    "@app.route(\"/\", methods=[\"GET\", \"POST\"])\n",
    "def index():\n",
    "    answer = \"\"\n",
    "    if request.method == \"POST\":\n",
    "        if \"question\" in request.form:\n",
    "            question = request.form[\"question\"]\n",
    "            response = client.chat.completions.create(\n",
    "                model=\"gpt-4\",\n",
    "                messages=[\n",
    "                    {\"role\": \"system\", \"content\": \"You are a helpful data analyst.\"},\n",
    "                    {\"role\": \"user\", \"content\": question}\n",
    "                ]\n",
    "            )\n",
    "            answer = response.choices[0].message.content.strip()\n",
    "            log_question_answer(question, answer)\n",
    "\n",
    "        elif \"download_pdf\" in request.form:\n",
    "            generate_pdf_report()\n",
    "            return send_file(PDF_FILE, as_attachment=True)\n",
    "\n",
    "    html = \"<h2>Select a question:</h2><form method='post'>\"\n",
    "    for q in questions:\n",
    "        html += f\"<button name='question' value='{q}'>{q}</button><br><br>\"\n",
    "    html += \"<br><button name='download_pdf' value='1'>Download Q&A PDF Report</button>\"\n",
    "    html += \"</form>\"\n",
    "\n",
    "    if answer:\n",
    "        html += f\"<h3>GPT's answer:</h3><p>{answer}</p>\"\n",
    "\n",
    "    return html\n",
    "\n",
    "if __name__ == \"__main__\":\n",
    "    app.run()\n"
   ]
  },
  {
   "cell_type": "raw",
   "id": "79f888ab-ab64-4379-9179-41e7f49ac9eb",
   "metadata": {},
   "source": [
    "Users can click questions as before\n",
    "\n",
    "A new Download Q&A PDF Report button appears\n",
    "\n",
    "Clicking it downloads report.pdf with all previous Q&As"
   ]
  },
  {
   "cell_type": "code",
   "execution_count": null,
   "id": "4a6cd87f-b62c-41b5-b90b-3cf56e666dd3",
   "metadata": {},
   "outputs": [],
   "source": []
  }
 ],
 "metadata": {
  "kernelspec": {
   "display_name": "Python [conda env:base] *",
   "language": "python",
   "name": "conda-base-py"
  },
  "language_info": {
   "codemirror_mode": {
    "name": "ipython",
    "version": 3
   },
   "file_extension": ".py",
   "mimetype": "text/x-python",
   "name": "python",
   "nbconvert_exporter": "python",
   "pygments_lexer": "ipython3",
   "version": "3.12.7"
  }
 },
 "nbformat": 4,
 "nbformat_minor": 5
}

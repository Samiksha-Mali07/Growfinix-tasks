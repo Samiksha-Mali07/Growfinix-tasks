{
 "cells": [
  {
   "cell_type": "markdown",
   "id": "962bedab-cd11-4cc1-a65c-d3fcc38bc718",
   "metadata": {},
   "source": [
    "# Task4 = Movie Review Sentiment Analysis"
   ]
  },
  {
   "cell_type": "markdown",
   "id": "c3f2a542-d9bc-4e38-8c02-0d27859ab120",
   "metadata": {},
   "source": [
    "# Movie Review Sentiment Analysis"
   ]
  },
  {
   "cell_type": "markdown",
   "id": "e40baa9f-0e29-4819-bb72-8f3243c9266b",
   "metadata": {},
   "source": [
    "# 1.Load IMDB dataset"
   ]
  },
  {
   "cell_type": "markdown",
   "id": "483460d9-225e-434b-bf94-dec226bf1c91",
   "metadata": {},
   "source": [
    "# importing all necessary liabraries"
   ]
  },
  {
   "cell_type": "code",
   "execution_count": 1,
   "id": "e3a61ffd-9e4f-4598-aad1-976c627d49e0",
   "metadata": {},
   "outputs": [],
   "source": [
    "import pandas as pd        # Data manipulation and analysis\n",
    "import numpy as np         # Numerical operations\n",
    "import seaborn as sns      # Statistical data visualization\n",
    "import matplotlib.pyplot as plt  # Plotting with Matplotlib\n",
    "\n",
    "# Display plots inline in Jupyter Notebook\n",
    "%matplotlib inline\n",
    "\n",
    "import warnings            # Handle warning messages\n",
    "warnings.filterwarnings('ignore')  # Suppress warning messages"
   ]
  },
  {
   "cell_type": "code",
   "execution_count": 3,
   "id": "db0b6776-f68c-4d26-8bb3-5cd78c57681f",
   "metadata": {},
   "outputs": [
    {
     "data": {
      "text/html": [
       "<div>\n",
       "<style scoped>\n",
       "    .dataframe tbody tr th:only-of-type {\n",
       "        vertical-align: middle;\n",
       "    }\n",
       "\n",
       "    .dataframe tbody tr th {\n",
       "        vertical-align: top;\n",
       "    }\n",
       "\n",
       "    .dataframe thead th {\n",
       "        text-align: right;\n",
       "    }\n",
       "</style>\n",
       "<table border=\"1\" class=\"dataframe\">\n",
       "  <thead>\n",
       "    <tr style=\"text-align: right;\">\n",
       "      <th></th>\n",
       "      <th>review</th>\n",
       "      <th>sentiment</th>\n",
       "    </tr>\n",
       "  </thead>\n",
       "  <tbody>\n",
       "    <tr>\n",
       "      <th>0</th>\n",
       "      <td>One of the other reviewers has mentioned that ...</td>\n",
       "      <td>positive</td>\n",
       "    </tr>\n",
       "    <tr>\n",
       "      <th>1</th>\n",
       "      <td>A wonderful little production. &lt;br /&gt;&lt;br /&gt;The...</td>\n",
       "      <td>positive</td>\n",
       "    </tr>\n",
       "    <tr>\n",
       "      <th>2</th>\n",
       "      <td>I thought this was a wonderful way to spend ti...</td>\n",
       "      <td>positive</td>\n",
       "    </tr>\n",
       "    <tr>\n",
       "      <th>3</th>\n",
       "      <td>Basically there's a family where a little boy ...</td>\n",
       "      <td>negative</td>\n",
       "    </tr>\n",
       "    <tr>\n",
       "      <th>4</th>\n",
       "      <td>Petter Mattei's \"Love in the Time of Money\" is...</td>\n",
       "      <td>positive</td>\n",
       "    </tr>\n",
       "    <tr>\n",
       "      <th>...</th>\n",
       "      <td>...</td>\n",
       "      <td>...</td>\n",
       "    </tr>\n",
       "    <tr>\n",
       "      <th>49995</th>\n",
       "      <td>I thought this movie did a down right good job...</td>\n",
       "      <td>positive</td>\n",
       "    </tr>\n",
       "    <tr>\n",
       "      <th>49996</th>\n",
       "      <td>Bad plot, bad dialogue, bad acting, idiotic di...</td>\n",
       "      <td>negative</td>\n",
       "    </tr>\n",
       "    <tr>\n",
       "      <th>49997</th>\n",
       "      <td>I am a Catholic taught in parochial elementary...</td>\n",
       "      <td>negative</td>\n",
       "    </tr>\n",
       "    <tr>\n",
       "      <th>49998</th>\n",
       "      <td>I'm going to have to disagree with the previou...</td>\n",
       "      <td>negative</td>\n",
       "    </tr>\n",
       "    <tr>\n",
       "      <th>49999</th>\n",
       "      <td>No one expects the Star Trek movies to be high...</td>\n",
       "      <td>negative</td>\n",
       "    </tr>\n",
       "  </tbody>\n",
       "</table>\n",
       "<p>50000 rows × 2 columns</p>\n",
       "</div>"
      ],
      "text/plain": [
       "                                                  review sentiment\n",
       "0      One of the other reviewers has mentioned that ...  positive\n",
       "1      A wonderful little production. <br /><br />The...  positive\n",
       "2      I thought this was a wonderful way to spend ti...  positive\n",
       "3      Basically there's a family where a little boy ...  negative\n",
       "4      Petter Mattei's \"Love in the Time of Money\" is...  positive\n",
       "...                                                  ...       ...\n",
       "49995  I thought this movie did a down right good job...  positive\n",
       "49996  Bad plot, bad dialogue, bad acting, idiotic di...  negative\n",
       "49997  I am a Catholic taught in parochial elementary...  negative\n",
       "49998  I'm going to have to disagree with the previou...  negative\n",
       "49999  No one expects the Star Trek movies to be high...  negative\n",
       "\n",
       "[50000 rows x 2 columns]"
      ]
     },
     "execution_count": 3,
     "metadata": {},
     "output_type": "execute_result"
    }
   ],
   "source": [
    "pd.read_csv(r'C:\\Users\\admin\\Downloads\\archive\\IMDB Dataset.csv')"
   ]
  },
  {
   "cell_type": "markdown",
   "id": "d6ffbfee-46da-48ac-a629-6cc37aa9a998",
   "metadata": {},
   "source": [
    "# loaded datset into DataFrame"
   ]
  },
  {
   "cell_type": "code",
   "execution_count": 6,
   "id": "95dc9cf3-e4d1-4c3d-8765-7daa09861bb6",
   "metadata": {},
   "outputs": [],
   "source": [
    "df=pd.read_csv(r'C:\\Users\\admin\\Downloads\\archive\\IMDB Dataset.csv')"
   ]
  },
  {
   "cell_type": "markdown",
   "id": "9fa12b1e-d684-4497-8173-fba6d2ee6407",
   "metadata": {},
   "source": [
    "# first five rows"
   ]
  },
  {
   "cell_type": "code",
   "execution_count": 9,
   "id": "fc3e7797-e68f-4f28-97ce-b1994a7f11d5",
   "metadata": {},
   "outputs": [
    {
     "data": {
      "text/html": [
       "<div>\n",
       "<style scoped>\n",
       "    .dataframe tbody tr th:only-of-type {\n",
       "        vertical-align: middle;\n",
       "    }\n",
       "\n",
       "    .dataframe tbody tr th {\n",
       "        vertical-align: top;\n",
       "    }\n",
       "\n",
       "    .dataframe thead th {\n",
       "        text-align: right;\n",
       "    }\n",
       "</style>\n",
       "<table border=\"1\" class=\"dataframe\">\n",
       "  <thead>\n",
       "    <tr style=\"text-align: right;\">\n",
       "      <th></th>\n",
       "      <th>review</th>\n",
       "      <th>sentiment</th>\n",
       "    </tr>\n",
       "  </thead>\n",
       "  <tbody>\n",
       "    <tr>\n",
       "      <th>0</th>\n",
       "      <td>One of the other reviewers has mentioned that ...</td>\n",
       "      <td>positive</td>\n",
       "    </tr>\n",
       "    <tr>\n",
       "      <th>1</th>\n",
       "      <td>A wonderful little production. &lt;br /&gt;&lt;br /&gt;The...</td>\n",
       "      <td>positive</td>\n",
       "    </tr>\n",
       "    <tr>\n",
       "      <th>2</th>\n",
       "      <td>I thought this was a wonderful way to spend ti...</td>\n",
       "      <td>positive</td>\n",
       "    </tr>\n",
       "    <tr>\n",
       "      <th>3</th>\n",
       "      <td>Basically there's a family where a little boy ...</td>\n",
       "      <td>negative</td>\n",
       "    </tr>\n",
       "    <tr>\n",
       "      <th>4</th>\n",
       "      <td>Petter Mattei's \"Love in the Time of Money\" is...</td>\n",
       "      <td>positive</td>\n",
       "    </tr>\n",
       "  </tbody>\n",
       "</table>\n",
       "</div>"
      ],
      "text/plain": [
       "                                              review sentiment\n",
       "0  One of the other reviewers has mentioned that ...  positive\n",
       "1  A wonderful little production. <br /><br />The...  positive\n",
       "2  I thought this was a wonderful way to spend ti...  positive\n",
       "3  Basically there's a family where a little boy ...  negative\n",
       "4  Petter Mattei's \"Love in the Time of Money\" is...  positive"
      ]
     },
     "execution_count": 9,
     "metadata": {},
     "output_type": "execute_result"
    }
   ],
   "source": [
    "df.head()"
   ]
  },
  {
   "cell_type": "markdown",
   "id": "f7eeb4bf-f5f2-4ce7-9517-75aee34ce6f6",
   "metadata": {},
   "source": [
    "# shape of the data"
   ]
  },
  {
   "cell_type": "code",
   "execution_count": 12,
   "id": "5b122970-e88a-4b82-b4d4-aa6723717546",
   "metadata": {},
   "outputs": [
    {
     "data": {
      "text/plain": [
       "(50000, 2)"
      ]
     },
     "execution_count": 12,
     "metadata": {},
     "output_type": "execute_result"
    }
   ],
   "source": [
    "df.shape"
   ]
  },
  {
   "cell_type": "markdown",
   "id": "8a549b0d-d93e-4864-8a92-b72f114409fa",
   "metadata": {},
   "source": [
    "# 2. Clean text: remove stopwords, punctuation, lowercasing."
   ]
  },
  {
   "cell_type": "markdown",
   "id": "c292b1bc-49b1-4f83-826d-bb9e53ef2fbe",
   "metadata": {},
   "source": [
    "# Required Libraries"
   ]
  },
  {
   "cell_type": "code",
   "execution_count": 16,
   "id": "88c4520a-fd6a-4520-beb0-6e6211de8e82",
   "metadata": {},
   "outputs": [],
   "source": [
    "import string\n",
    "import nltk\n",
    "from nltk.corpus import stopwords"
   ]
  },
  {
   "cell_type": "markdown",
   "id": "474d9b3e-263f-4691-b3e9-e81750ae382e",
   "metadata": {},
   "source": [
    "# NLTK stopwords"
   ]
  },
  {
   "cell_type": "code",
   "execution_count": 18,
   "id": "194d700d-e138-4778-9a0b-510d315c7e51",
   "metadata": {},
   "outputs": [
    {
     "name": "stderr",
     "output_type": "stream",
     "text": [
      "[nltk_data] Downloading package stopwords to\n",
      "[nltk_data]     C:\\Users\\admin\\AppData\\Roaming\\nltk_data...\n",
      "[nltk_data]   Package stopwords is already up-to-date!\n"
     ]
    },
    {
     "data": {
      "text/plain": [
       "True"
      ]
     },
     "execution_count": 18,
     "metadata": {},
     "output_type": "execute_result"
    }
   ],
   "source": [
    "nltk.download('stopwords')"
   ]
  },
  {
   "cell_type": "markdown",
   "id": "84cf48ae-d3c9-4c47-9d09-d46bd8cf4287",
   "metadata": {},
   "source": [
    "# Define stopwords set"
   ]
  },
  {
   "cell_type": "code",
   "execution_count": 21,
   "id": "cd8eb0d3-fce3-4e0c-b830-7a9f5a66b66d",
   "metadata": {},
   "outputs": [],
   "source": [
    "stop_words = set(stopwords.words('english'))"
   ]
  },
  {
   "cell_type": "code",
   "execution_count": 22,
   "id": "afbc642b-1386-4004-904d-5d73007b4607",
   "metadata": {},
   "outputs": [],
   "source": [
    "\n",
    "# Define clean_text function\n",
    "def clean_text(text):\n",
    "    if not isinstance(text, str):  # Handle missing or non-string data\n",
    "        return \"\"\n",
    "\n",
    "    # Lowercase\n",
    "    text = text.lower()\n",
    "\n",
    "    # Remove punctuation\n",
    "    text = text.translate(str.maketrans('', '', string.punctuation))\n",
    "\n",
    "    # Remove stopwords\n",
    "    words = text.split()\n",
    "    words = [word for word in words if word not in stop_words]\n",
    "\n",
    "    return ' '.join(words)\n"
   ]
  },
  {
   "cell_type": "markdown",
   "id": "e6470e91-5ea6-4d63-a9d6-44c2be09ad31",
   "metadata": {},
   "source": [
    "# Applying to my DataFrame"
   ]
  },
  {
   "cell_type": "code",
   "execution_count": 24,
   "id": "edebe296-8fac-4d95-bb7e-dab462d0bfd3",
   "metadata": {},
   "outputs": [],
   "source": [
    "df['clean_review'] = df['review'].apply(clean_text)"
   ]
  },
  {
   "cell_type": "markdown",
   "id": "09d16cad-189b-4569-9e79-0357e38c8ec0",
   "metadata": {},
   "source": [
    "# Checking Result"
   ]
  },
  {
   "cell_type": "code",
   "execution_count": 29,
   "id": "a16a73d3-4557-48c7-8a89-5d5c64bdd3dc",
   "metadata": {},
   "outputs": [
    {
     "name": "stdout",
     "output_type": "stream",
     "text": [
      "Original:\n",
      " One of the other reviewers has mentioned that after watching just 1 Oz episode you'll be hooked. They are right, as this is exactly what happened with me.<br /><br />The first thing that struck me about Oz was its brutality and unflinching scenes of violence, which set in right from the word GO. Trust me, this is not a show for the faint hearted or timid. This show pulls no punches with regards to drugs, sex or violence. Its is hardcore, in the classic use of the word.<br /><br />It is called OZ as that is the nickname given to the Oswald Maximum Security State Penitentary. It focuses mainly on Emerald City, an experimental section of the prison where all the cells have glass fronts and face inwards, so privacy is not high on the agenda. Em City is home to many..Aryans, Muslims, gangstas, Latinos, Christians, Italians, Irish and more....so scuffles, death stares, dodgy dealings and shady agreements are never far away.<br /><br />I would say the main appeal of the show is due to the fact that it goes where other shows wouldn't dare. Forget pretty pictures painted for mainstream audiences, forget charm, forget romance...OZ doesn't mess around. The first episode I ever saw struck me as so nasty it was surreal, I couldn't say I was ready for it, but as I watched more, I developed a taste for Oz, and got accustomed to the high levels of graphic violence. Not just violence, but injustice (crooked guards who'll be sold out for a nickel, inmates who'll kill on order and get away with it, well mannered, middle class inmates being turned into prison bitches due to their lack of street skills or prison experience) Watching Oz, you may become comfortable with what is uncomfortable viewing....thats if you can get in touch with your darker side.\n",
      "\n",
      "Cleaned:\n",
      " one reviewers mentioned watching 1 oz episode youll hooked right exactly happened mebr br first thing struck oz brutality unflinching scenes violence set right word go trust show faint hearted timid show pulls punches regards drugs sex violence hardcore classic use wordbr br called oz nickname given oswald maximum security state penitentary focuses mainly emerald city experimental section prison cells glass fronts face inwards privacy high agenda em city home manyaryans muslims gangstas latinos christians italians irish moreso scuffles death stares dodgy dealings shady agreements never far awaybr br would say main appeal show due fact goes shows wouldnt dare forget pretty pictures painted mainstream audiences forget charm forget romanceoz doesnt mess around first episode ever saw struck nasty surreal couldnt say ready watched developed taste oz got accustomed high levels graphic violence violence injustice crooked guards wholl sold nickel inmates wholl kill order get away well mannered middle class inmates turned prison bitches due lack street skills prison experience watching oz may become comfortable uncomfortable viewingthats get touch darker side\n"
     ]
    }
   ],
   "source": [
    "print(\"Original:\\n\", df['review'][0])\n",
    "print(\"\\nCleaned:\\n\", df['clean_review'][0])"
   ]
  },
  {
   "cell_type": "markdown",
   "id": "70265ef2-d6a5-42ad-b1f3-7017ff53767a",
   "metadata": {},
   "source": [
    "# 3. Use VADER for sentiment polarity."
   ]
  },
  {
   "cell_type": "code",
   "execution_count": 31,
   "id": "19412945-e307-45ce-802b-21b494d7320b",
   "metadata": {},
   "outputs": [
    {
     "name": "stderr",
     "output_type": "stream",
     "text": [
      "[nltk_data] Downloading package vader_lexicon to\n",
      "[nltk_data]     C:\\Users\\admin\\AppData\\Roaming\\nltk_data...\n",
      "[nltk_data]   Package vader_lexicon is already up-to-date!\n"
     ]
    }
   ],
   "source": [
    "import nltk\n",
    "from nltk.sentiment import SentimentIntensityAnalyzer\n",
    "\n",
    "nltk.download('vader_lexicon')\n",
    "sia = SentimentIntensityAnalyzer()\n"
   ]
  },
  {
   "cell_type": "markdown",
   "id": "b8e7b654-aead-42b0-a249-26edcff465ec",
   "metadata": {},
   "source": [
    "# Defining Sentiment Function"
   ]
  },
  {
   "cell_type": "code",
   "execution_count": 33,
   "id": "30688d5d-4425-4d97-b83d-ddd74ceac79e",
   "metadata": {},
   "outputs": [],
   "source": [
    "def get_vader_sentiment(text):\n",
    "    score = sia.polarity_scores(text)['compound']  # Compound score: -1 to 1\n",
    "    return score\n"
   ]
  },
  {
   "cell_type": "markdown",
   "id": "f5bab37d-2676-4d82-a894-8efa1d02db16",
   "metadata": {},
   "source": [
    "# Applying to my DataFrame"
   ]
  },
  {
   "cell_type": "code",
   "execution_count": 35,
   "id": "b2b20482-4805-49a0-bebb-45603b0744e4",
   "metadata": {},
   "outputs": [],
   "source": [
    "df['vader_compound'] = df['clean_review'].apply(get_vader_sentiment)\n"
   ]
  },
  {
   "cell_type": "markdown",
   "id": "0a13fa1e-d82e-4959-87fe-4a04f54886bf",
   "metadata": {},
   "source": [
    "# checking the result"
   ]
  },
  {
   "cell_type": "code",
   "execution_count": 37,
   "id": "531b72f5-017e-4d5c-a6ac-c4713b9f11eb",
   "metadata": {},
   "outputs": [
    {
     "data": {
      "text/html": [
       "<div>\n",
       "<style scoped>\n",
       "    .dataframe tbody tr th:only-of-type {\n",
       "        vertical-align: middle;\n",
       "    }\n",
       "\n",
       "    .dataframe tbody tr th {\n",
       "        vertical-align: top;\n",
       "    }\n",
       "\n",
       "    .dataframe thead th {\n",
       "        text-align: right;\n",
       "    }\n",
       "</style>\n",
       "<table border=\"1\" class=\"dataframe\">\n",
       "  <thead>\n",
       "    <tr style=\"text-align: right;\">\n",
       "      <th></th>\n",
       "      <th>review</th>\n",
       "      <th>clean_review</th>\n",
       "      <th>vader_compound</th>\n",
       "    </tr>\n",
       "  </thead>\n",
       "  <tbody>\n",
       "    <tr>\n",
       "      <th>0</th>\n",
       "      <td>One of the other reviewers has mentioned that ...</td>\n",
       "      <td>one reviewers mentioned watching 1 oz episode ...</td>\n",
       "      <td>-0.9934</td>\n",
       "    </tr>\n",
       "    <tr>\n",
       "      <th>1</th>\n",
       "      <td>A wonderful little production. &lt;br /&gt;&lt;br /&gt;The...</td>\n",
       "      <td>wonderful little production br br filming tech...</td>\n",
       "      <td>0.9582</td>\n",
       "    </tr>\n",
       "    <tr>\n",
       "      <th>2</th>\n",
       "      <td>I thought this was a wonderful way to spend ti...</td>\n",
       "      <td>thought wonderful way spend time hot summer we...</td>\n",
       "      <td>0.9520</td>\n",
       "    </tr>\n",
       "    <tr>\n",
       "      <th>3</th>\n",
       "      <td>Basically there's a family where a little boy ...</td>\n",
       "      <td>basically theres family little boy jake thinks...</td>\n",
       "      <td>-0.8858</td>\n",
       "    </tr>\n",
       "    <tr>\n",
       "      <th>4</th>\n",
       "      <td>Petter Mattei's \"Love in the Time of Money\" is...</td>\n",
       "      <td>petter matteis love time money visually stunni...</td>\n",
       "      <td>0.9871</td>\n",
       "    </tr>\n",
       "  </tbody>\n",
       "</table>\n",
       "</div>"
      ],
      "text/plain": [
       "                                              review  \\\n",
       "0  One of the other reviewers has mentioned that ...   \n",
       "1  A wonderful little production. <br /><br />The...   \n",
       "2  I thought this was a wonderful way to spend ti...   \n",
       "3  Basically there's a family where a little boy ...   \n",
       "4  Petter Mattei's \"Love in the Time of Money\" is...   \n",
       "\n",
       "                                        clean_review  vader_compound  \n",
       "0  one reviewers mentioned watching 1 oz episode ...         -0.9934  \n",
       "1  wonderful little production br br filming tech...          0.9582  \n",
       "2  thought wonderful way spend time hot summer we...          0.9520  \n",
       "3  basically theres family little boy jake thinks...         -0.8858  \n",
       "4  petter matteis love time money visually stunni...          0.9871  "
      ]
     },
     "execution_count": 37,
     "metadata": {},
     "output_type": "execute_result"
    }
   ],
   "source": [
    "df[['review', 'clean_review', 'vader_compound']].head()"
   ]
  },
  {
   "cell_type": "markdown",
   "id": "c7856639-d788-433c-939c-06d1ac6c2c22",
   "metadata": {},
   "source": [
    "# 4. Classify reviews as Positive, Negative, or Neutral."
   ]
  },
  {
   "cell_type": "markdown",
   "id": "c1d839c9-3945-49d7-8229-752fab1046e8",
   "metadata": {},
   "source": [
    "# Using VADER"
   ]
  },
  {
   "cell_type": "code",
   "execution_count": 40,
   "id": "e308822c-a05d-46fd-b910-a80d096bc87b",
   "metadata": {},
   "outputs": [],
   "source": [
    "df['vader_compound'] = df['clean_review'].apply(get_vader_sentiment)\n"
   ]
  },
  {
   "cell_type": "markdown",
   "id": "7e60e685-4ba9-4af6-be22-d4205b47d6eb",
   "metadata": {},
   "source": [
    "# Classification Logic"
   ]
  },
  {
   "cell_type": "code",
   "execution_count": 51,
   "id": "0eca44b1-68a8-4170-9ec4-3dbf9815dfbb",
   "metadata": {},
   "outputs": [],
   "source": [
    "def label_vader_sentiment(score):\n",
    "    if score >= 0.05:\n",
    "        return 'positive'\n",
    "    elif score <= -0.05:\n",
    "        return 'negative'\n",
    "    else:\n",
    "        return 'neutral'\n",
    "\n",
    "df['vader_sentiment'] = df['vader_compound'].apply(label_vader_sentiment)\n"
   ]
  },
  {
   "cell_type": "markdown",
   "id": "1f874599-7433-4957-abce-092c1b428fe4",
   "metadata": {},
   "source": [
    "# View sample predictions:"
   ]
  },
  {
   "cell_type": "code",
   "execution_count": 54,
   "id": "8f629163-08b9-4238-890b-f876ad0224dd",
   "metadata": {},
   "outputs": [
    {
     "data": {
      "text/html": [
       "<div>\n",
       "<style scoped>\n",
       "    .dataframe tbody tr th:only-of-type {\n",
       "        vertical-align: middle;\n",
       "    }\n",
       "\n",
       "    .dataframe tbody tr th {\n",
       "        vertical-align: top;\n",
       "    }\n",
       "\n",
       "    .dataframe thead th {\n",
       "        text-align: right;\n",
       "    }\n",
       "</style>\n",
       "<table border=\"1\" class=\"dataframe\">\n",
       "  <thead>\n",
       "    <tr style=\"text-align: right;\">\n",
       "      <th></th>\n",
       "      <th>review</th>\n",
       "      <th>clean_review</th>\n",
       "      <th>vader_compound</th>\n",
       "      <th>vader_sentiment</th>\n",
       "    </tr>\n",
       "  </thead>\n",
       "  <tbody>\n",
       "    <tr>\n",
       "      <th>38922</th>\n",
       "      <td>Okay...so I am gazing through my Mom and Dad's...</td>\n",
       "      <td>okayso gazing mom dads extensive dvd collectio...</td>\n",
       "      <td>0.9889</td>\n",
       "      <td>positive</td>\n",
       "    </tr>\n",
       "    <tr>\n",
       "      <th>42215</th>\n",
       "      <td>This film is unusual and bizarre, and it is ne...</td>\n",
       "      <td>film unusual bizarre nearly unusual bizarre go...</td>\n",
       "      <td>-0.7351</td>\n",
       "      <td>negative</td>\n",
       "    </tr>\n",
       "    <tr>\n",
       "      <th>13651</th>\n",
       "      <td>Jeez, only in the 70's... Antonio Margheriti b...</td>\n",
       "      <td>jeez 70s antonio margheriti brings us quirky h...</td>\n",
       "      <td>0.6735</td>\n",
       "      <td>positive</td>\n",
       "    </tr>\n",
       "    <tr>\n",
       "      <th>40876</th>\n",
       "      <td>This is the \"Battlefield Earth\" of mini series...</td>\n",
       "      <td>battlefield earth mini series exceptions disas...</td>\n",
       "      <td>-0.9918</td>\n",
       "      <td>negative</td>\n",
       "    </tr>\n",
       "    <tr>\n",
       "      <th>6856</th>\n",
       "      <td>Miraculously, this is actually quite watchable...</td>\n",
       "      <td>miraculously actually quite watchable mean bad...</td>\n",
       "      <td>-0.9701</td>\n",
       "      <td>negative</td>\n",
       "    </tr>\n",
       "    <tr>\n",
       "      <th>6126</th>\n",
       "      <td>I expected this movie was originally supposed ...</td>\n",
       "      <td>expected movie originally supposed show electi...</td>\n",
       "      <td>-0.9136</td>\n",
       "      <td>negative</td>\n",
       "    </tr>\n",
       "    <tr>\n",
       "      <th>24091</th>\n",
       "      <td>This film is quite boring. There are snippets ...</td>\n",
       "      <td>film quite boring snippets naked flesh tossed ...</td>\n",
       "      <td>-0.9268</td>\n",
       "      <td>negative</td>\n",
       "    </tr>\n",
       "    <tr>\n",
       "      <th>26704</th>\n",
       "      <td>The movie is more of a mockumentary of corrupt...</td>\n",
       "      <td>movie mockumentary corruption whole american s...</td>\n",
       "      <td>0.9578</td>\n",
       "      <td>positive</td>\n",
       "    </tr>\n",
       "    <tr>\n",
       "      <th>4319</th>\n",
       "      <td>Valley Girl is an exceptionally well made film...</td>\n",
       "      <td>valley girl exceptionally well made film allar...</td>\n",
       "      <td>0.8253</td>\n",
       "      <td>positive</td>\n",
       "    </tr>\n",
       "    <tr>\n",
       "      <th>12209</th>\n",
       "      <td>This show came to Canada via PBS in the mid 90...</td>\n",
       "      <td>show came canada via pbs mid 90s really really...</td>\n",
       "      <td>0.9695</td>\n",
       "      <td>positive</td>\n",
       "    </tr>\n",
       "  </tbody>\n",
       "</table>\n",
       "</div>"
      ],
      "text/plain": [
       "                                                  review  \\\n",
       "38922  Okay...so I am gazing through my Mom and Dad's...   \n",
       "42215  This film is unusual and bizarre, and it is ne...   \n",
       "13651  Jeez, only in the 70's... Antonio Margheriti b...   \n",
       "40876  This is the \"Battlefield Earth\" of mini series...   \n",
       "6856   Miraculously, this is actually quite watchable...   \n",
       "6126   I expected this movie was originally supposed ...   \n",
       "24091  This film is quite boring. There are snippets ...   \n",
       "26704  The movie is more of a mockumentary of corrupt...   \n",
       "4319   Valley Girl is an exceptionally well made film...   \n",
       "12209  This show came to Canada via PBS in the mid 90...   \n",
       "\n",
       "                                            clean_review  vader_compound  \\\n",
       "38922  okayso gazing mom dads extensive dvd collectio...          0.9889   \n",
       "42215  film unusual bizarre nearly unusual bizarre go...         -0.7351   \n",
       "13651  jeez 70s antonio margheriti brings us quirky h...          0.6735   \n",
       "40876  battlefield earth mini series exceptions disas...         -0.9918   \n",
       "6856   miraculously actually quite watchable mean bad...         -0.9701   \n",
       "6126   expected movie originally supposed show electi...         -0.9136   \n",
       "24091  film quite boring snippets naked flesh tossed ...         -0.9268   \n",
       "26704  movie mockumentary corruption whole american s...          0.9578   \n",
       "4319   valley girl exceptionally well made film allar...          0.8253   \n",
       "12209  show came canada via pbs mid 90s really really...          0.9695   \n",
       "\n",
       "      vader_sentiment  \n",
       "38922        positive  \n",
       "42215        negative  \n",
       "13651        positive  \n",
       "40876        negative  \n",
       "6856         negative  \n",
       "6126         negative  \n",
       "24091        negative  \n",
       "26704        positive  \n",
       "4319         positive  \n",
       "12209        positive  "
      ]
     },
     "execution_count": 54,
     "metadata": {},
     "output_type": "execute_result"
    }
   ],
   "source": [
    "df[['review', 'clean_review', 'vader_compound', 'vader_sentiment']].sample(10)"
   ]
  },
  {
   "cell_type": "markdown",
   "id": "14c0efc0-dc59-4756-904d-fe39c716f919",
   "metadata": {},
   "source": [
    "# 5. Add new column with sentiment label."
   ]
  },
  {
   "cell_type": "code",
   "execution_count": null,
   "id": "db170510-0308-4747-9ce9-513eab38b8c8",
   "metadata": {},
   "outputs": [],
   "source": [
    "#  allready adding \n",
    "df['vader_sentiment'] = df['vader_compound'].apply(label_vader_sentiment)"
   ]
  },
  {
   "cell_type": "markdown",
   "id": "41a57b5c-ceb4-4ee9-a043-5669cd715adc",
   "metadata": {},
   "source": [
    "# to varifying"
   ]
  },
  {
   "cell_type": "code",
   "execution_count": 69,
   "id": "3408ee26-1328-43f8-b0c1-bd98f8d67594",
   "metadata": {},
   "outputs": [
    {
     "data": {
      "text/html": [
       "<div>\n",
       "<style scoped>\n",
       "    .dataframe tbody tr th:only-of-type {\n",
       "        vertical-align: middle;\n",
       "    }\n",
       "\n",
       "    .dataframe tbody tr th {\n",
       "        vertical-align: top;\n",
       "    }\n",
       "\n",
       "    .dataframe thead th {\n",
       "        text-align: right;\n",
       "    }\n",
       "</style>\n",
       "<table border=\"1\" class=\"dataframe\">\n",
       "  <thead>\n",
       "    <tr style=\"text-align: right;\">\n",
       "      <th></th>\n",
       "      <th>vader_compound</th>\n",
       "      <th>vader_sentiment</th>\n",
       "    </tr>\n",
       "  </thead>\n",
       "  <tbody>\n",
       "    <tr>\n",
       "      <th>0</th>\n",
       "      <td>-0.9934</td>\n",
       "      <td>negative</td>\n",
       "    </tr>\n",
       "    <tr>\n",
       "      <th>1</th>\n",
       "      <td>0.9582</td>\n",
       "      <td>positive</td>\n",
       "    </tr>\n",
       "    <tr>\n",
       "      <th>2</th>\n",
       "      <td>0.9520</td>\n",
       "      <td>positive</td>\n",
       "    </tr>\n",
       "    <tr>\n",
       "      <th>3</th>\n",
       "      <td>-0.8858</td>\n",
       "      <td>negative</td>\n",
       "    </tr>\n",
       "    <tr>\n",
       "      <th>4</th>\n",
       "      <td>0.9871</td>\n",
       "      <td>positive</td>\n",
       "    </tr>\n",
       "  </tbody>\n",
       "</table>\n",
       "</div>"
      ],
      "text/plain": [
       "   vader_compound vader_sentiment\n",
       "0         -0.9934        negative\n",
       "1          0.9582        positive\n",
       "2          0.9520        positive\n",
       "3         -0.8858        negative\n",
       "4          0.9871        positive"
      ]
     },
     "execution_count": 69,
     "metadata": {},
     "output_type": "execute_result"
    }
   ],
   "source": [
    "df[['vader_compound', 'vader_sentiment']].head()"
   ]
  },
  {
   "cell_type": "markdown",
   "id": "b7ea78fd-ed51-4c7b-9480-a735ae322754",
   "metadata": {},
   "source": [
    "# 6. Count total positive, negative, neutral."
   ]
  },
  {
   "cell_type": "code",
   "execution_count": 73,
   "id": "0faf1dad-c525-4461-b993-04788dc283fd",
   "metadata": {},
   "outputs": [
    {
     "data": {
      "text/plain": [
       "vader_sentiment\n",
       "positive    34011\n",
       "negative    15441\n",
       "neutral       548\n",
       "Name: count, dtype: int64"
      ]
     },
     "execution_count": 73,
     "metadata": {},
     "output_type": "execute_result"
    }
   ],
   "source": [
    "df['vader_sentiment'].value_counts()\n"
   ]
  },
  {
   "cell_type": "markdown",
   "id": "f1cab61b-c28a-4281-8b78-45efecefbf1b",
   "metadata": {},
   "source": [
    "# 7. Create pie chart or bar graph."
   ]
  },
  {
   "cell_type": "markdown",
   "id": "5ebb3425-c43a-4eba-b750-6ae2b22bf360",
   "metadata": {},
   "source": [
    "# Bar graph"
   ]
  },
  {
   "cell_type": "code",
   "execution_count": 79,
   "id": "77d27931-52a0-4c85-909a-9528afd3e942",
   "metadata": {},
   "outputs": [
    {
     "data": {
      "text/plain": [
       "<Figure size 800x500 with 0 Axes>"
      ]
     },
     "metadata": {},
     "output_type": "display_data"
    },
    {
     "data": {
      "image/png": "[encoded data removed]",
      "text/plain": [
       "<Figure size 800x500 with 1 Axes>"
      ]
     },
     "metadata": {},
     "output_type": "display_data"
    }
   ],
   "source": [
    "# --- Bar Graph ---\n",
    "# Get counts\n",
    "counts = df['vader_sentiment'].value_counts()\n",
    "\n",
    "plt.figure(figsize=(8,5))\n",
    "sns.barplot(x=counts.index, y=counts.values, palette=['#66b3ff','#ff6666','#ffcc99'])\n",
    "plt.title('Sentiment Counts (VADER)')\n",
    "plt.xlabel('Sentiment')\n",
    "plt.ylabel('Number of Reviews')\n",
    "plt.savefig('sentiment_counts_bargraph.png') \n",
    "plt.show()"
   ]
  },
  {
   "cell_type": "markdown",
   "id": "8e90791f-99bd-46f9-b85d-0daa72657471",
   "metadata": {},
   "source": [
    "# pie chart"
   ]
  },
  {
   "cell_type": "code",
   "execution_count": 82,
   "id": "7e71afbb-4784-4ce1-ab89-12b5f042bf3b",
   "metadata": {},
   "outputs": [
    {
     "data": {
      "image/png": "[encoded data removed]",
      "text/plain": [
       "<Figure size 600x600 with 1 Axes>"
      ]
     },
     "metadata": {},
     "output_type": "display_data"
    }
   ],
   "source": [
    "# Get counts\n",
    "counts = df['vader_sentiment'].value_counts()\n",
    "\n",
    "# --- Pie Chart ---\n",
    "plt.figure(figsize=(6,6))\n",
    "plt.pie(counts, labels=counts.index, autopct='%1.1f%%', startangle=140, colors=['#66b3ff','#ff6666','#ffcc99'])\n",
    "plt.title('Sentiment Distribution (VADER)')\n",
    "plt.show()"
   ]
  },
  {
   "cell_type": "markdown",
   "id": "f9489d8e-4f71-412e-88bf-c02f7ec011d9",
   "metadata": {},
   "source": [
    "# 8. Show top 3 positive and negative reviews."
   ]
  },
  {
   "cell_type": "markdown",
   "id": "abba641d-0f82-4c72-985f-10f77dbae930",
   "metadata": {},
   "source": [
    "# Top 3 positive reviews (highest compound scores)"
   ]
  },
  {
   "cell_type": "code",
   "execution_count": 86,
   "id": "3d3c4876-cdd6-4b2b-85fc-d0b5e595376a",
   "metadata": {},
   "outputs": [
    {
     "name": "stdout",
     "output_type": "stream",
     "text": [
      "Top 3 Positive Reviews:\n",
      "                                                  review  vader_compound  \\\n",
      "42946  By now you've probably heard a bit about the n...          0.9998   \n",
      "28525  Jim Carrey is back to much the same role that ...          0.9996   \n",
      "6603   Romance is in the air and love is in bloom in ...          0.9996   \n",
      "\n",
      "      vader_sentiment  \n",
      "42946        positive  \n",
      "28525        positive  \n",
      "6603         positive  \n"
     ]
    }
   ],
   "source": [
    "top_positive = df.sort_values(by='vader_compound', ascending=False).head(3)\n",
    "print(\"Top 3 Positive Reviews:\")\n",
    "print(top_positive[['review', 'vader_compound', 'vader_sentiment']])"
   ]
  },
  {
   "cell_type": "markdown",
   "id": "a9f783d8-008f-49e6-9dca-24a097fc9bcd",
   "metadata": {},
   "source": [
    "# Top 3 negative reviews (lowest compound scores)"
   ]
  },
  {
   "cell_type": "code",
   "execution_count": 89,
   "id": "35c9e0e6-0b8a-4ddd-8b67-ed2c22a46537",
   "metadata": {},
   "outputs": [
    {
     "name": "stdout",
     "output_type": "stream",
     "text": [
      "\n",
      "Top 3 Negative Reviews:\n",
      "                                                  review  vader_compound  \\\n",
      "4447   I'm going to write about this movie and about ...         -0.9993   \n",
      "9016   I watched SCARECROWS because of the buzz surro...         -0.9993   \n",
      "13153  The name Uwe Boll is automatically linked to b...         -0.9993   \n",
      "\n",
      "      vader_sentiment  \n",
      "4447         negative  \n",
      "9016         negative  \n",
      "13153        negative  \n"
     ]
    }
   ],
   "source": [
    "top_negative = df.sort_values(by='vader_compound').head(3)\n",
    "print(\"\\nTop 3 Negative Reviews:\")\n",
    "print(top_negative[['review', 'vader_compound', 'vader_sentiment']])"
   ]
  },
  {
   "cell_type": "markdown",
   "id": "05270b87-5394-49c2-b25f-fd9d0eccecb4",
   "metadata": {},
   "source": [
    "# 9. Save final result to CSV."
   ]
  },
  {
   "cell_type": "code",
   "execution_count": 92,
   "id": "9234bc51-5f0e-4143-92df-9f962b2dd29a",
   "metadata": {},
   "outputs": [],
   "source": [
    "df.to_csv('imdb_reviews_with_sentiment.csv', index=False)\n"
   ]
  },
  {
   "cell_type": "markdown",
   "id": "45a0e2f5-181d-400f-b2cc-12edcb0a1907",
   "metadata": {},
   "source": [
    "# 10.create a UI to paste new review and check sentiment."
   ]
  },
  {
   "cell_type": "code",
   "execution_count": 97,
   "id": "00534880-49ff-4e29-b895-3eeab6cbbd30",
   "metadata": {},
   "outputs": [
    {
     "name": "stderr",
     "output_type": "stream",
     "text": [
      "[nltk_data] Downloading package vader_lexicon to\n",
      "[nltk_data]     C:\\Users\\admin\\AppData\\Roaming\\nltk_data...\n",
      "[nltk_data]   Package vader_lexicon is already up-to-date!\n",
      "2025-08-31 20:16:36.280 \n",
      "  \u001b[33m\u001b[1mWarning:\u001b[0m to view this Streamlit app on a browser, run it with the following\n",
      "  command:\n",
      "\n",
      "    streamlit run C:\\Users\\admin\\anaconda3\\Lib\\site-packages\\ipykernel_launcher.py [ARGUMENTS]\n",
      "2025-08-31 20:16:36.281 Session state does not function when running a script without `streamlit run`\n"
     ]
    }
   ],
   "source": [
    "import streamlit as st\n",
    "from nltk.sentiment import SentimentIntensityAnalyzer\n",
    "import nltk\n",
    "\n",
    "# Download VADER lexicon (run once)\n",
    "nltk.download('vader_lexicon')\n",
    "\n",
    "sia = SentimentIntensityAnalyzer()\n",
    "\n",
    "def classify_vader(score):\n",
    "    if score >= 0.05:\n",
    "        return 'positive'\n",
    "    elif score <= -0.05:\n",
    "        return 'negative'\n",
    "    else:\n",
    "        return 'neutral'\n",
    "\n",
    "st.title(\"IMDB Review Sentiment Analyzer\")\n",
    "\n",
    "# Text input for new review\n",
    "user_review = st.text_area(\"Paste your review here:\")\n",
    "\n",
    "if st.button(\"Analyze Sentiment\"):\n",
    "    if user_review.strip() == \"\":\n",
    "        st.warning(\"Please enter a review text.\")\n",
    "    else:\n",
    "        score = sia.polarity_scores(user_review)['compound']\n",
    "        sentiment = classify_vader(score)\n",
    "        st.write(f\"**Sentiment:** {sentiment.capitalize()}\")\n",
    "        st.write(f\"**Compound Score:** {score}\")\n"
   ]
  },
  {
   "cell_type": "code",
   "execution_count": null,
   "id": "a1f87072-fe2a-448f-ac80-ae9f39e55548",
   "metadata": {},
   "outputs": [],
   "source": []
  }
 ],
 "metadata": {
  "kernelspec": {
   "display_name": "Python [conda env:base] *",
   "language": "python",
   "name": "conda-base-py"
  },
  "language_info": {
   "codemirror_mode": {
    "name": "ipython",
    "version": 3
   },
   "file_extension": ".py",
   "mimetype": "text/x-python",
   "name": "python",
   "nbconvert_exporter": "python",
   "pygments_lexer": "ipython3",
   "version": "3.12.7"
  }
 },
 "nbformat": 4,
 "nbformat_minor": 5
}

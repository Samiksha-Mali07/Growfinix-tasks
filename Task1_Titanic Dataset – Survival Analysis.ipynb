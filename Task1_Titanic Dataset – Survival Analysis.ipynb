{
 "cells": [
  {
   "cell_type": "markdown",
   "id": "961058d8-60bc-4f34-a461-e0ec333c3f42",
   "metadata": {},
   "source": [
    "# Task 1=Titanic Dataset – Survival Analysis\n"
   ]
  },
  {
   "cell_type": "markdown",
   "id": "67e91591-14d1-4fb2-b9fd-379c04b7964f",
   "metadata": {},
   "source": [
    "# Importing all necessary libraries for data analysis and visualization"
   ]
  },
  {
   "cell_type": "code",
   "execution_count": 7,
   "id": "05ccc310-194d-45ee-a170-8d3577525a1e",
   "metadata": {},
   "outputs": [],
   "source": [
    "import pandas as pd        # Data manipulation and analysis\n",
    "import numpy as np         # Numerical operations\n",
    "import seaborn as sns      # Statistical data visualization\n",
    "import matplotlib.pyplot as plt  # Plotting with Matplotlib\n",
    "\n",
    "# Display plots inline in Jupyter Notebook\n",
    "%matplotlib inline\n",
    "\n",
    "import warnings            # Handle warning messages\n",
    "warnings.filterwarnings('ignore')  # Suppress warning messages"
   ]
  },
  {
   "cell_type": "markdown",
   "id": "51493c4b-ce9f-4ea1-bb87-35c69be8fd06",
   "metadata": {},
   "source": [
    " # 1.Load Titanic dataset from Kaggle or seaborn library"
   ]
  },
  {
   "cell_type": "code",
   "execution_count": 23,
   "id": "2fef635e-625d-4518-8bc7-25835be162c8",
   "metadata": {},
   "outputs": [],
   "source": [
    " # Loading the built-in Titanic dataset from Seaborn\n",
    "titanic = sns.load_dataset('titanic') "
   ]
  },
  {
   "cell_type": "code",
   "execution_count": 14,
   "id": "f18e88a3-91b5-4a43-af42-089c382dd15b",
   "metadata": {},
   "outputs": [
    {
     "data": {
      "text/html": [
       "<div>\n",
       "<style scoped>\n",
       "    .dataframe tbody tr th:only-of-type {\n",
       "        vertical-align: middle;\n",
       "    }\n",
       "\n",
       "    .dataframe tbody tr th {\n",
       "        vertical-align: top;\n",
       "    }\n",
       "\n",
       "    .dataframe thead th {\n",
       "        text-align: right;\n",
       "    }\n",
       "</style>\n",
       "<table border=\"1\" class=\"dataframe\">\n",
       "  <thead>\n",
       "    <tr style=\"text-align: right;\">\n",
       "      <th></th>\n",
       "      <th>survived</th>\n",
       "      <th>pclass</th>\n",
       "      <th>sex</th>\n",
       "      <th>age</th>\n",
       "      <th>sibsp</th>\n",
       "      <th>parch</th>\n",
       "      <th>fare</th>\n",
       "      <th>embarked</th>\n",
       "      <th>class</th>\n",
       "      <th>who</th>\n",
       "      <th>adult_male</th>\n",
       "      <th>deck</th>\n",
       "      <th>embark_town</th>\n",
       "      <th>alive</th>\n",
       "      <th>alone</th>\n",
       "    </tr>\n",
       "  </thead>\n",
       "  <tbody>\n",
       "    <tr>\n",
       "      <th>0</th>\n",
       "      <td>0</td>\n",
       "      <td>3</td>\n",
       "      <td>male</td>\n",
       "      <td>22.0</td>\n",
       "      <td>1</td>\n",
       "      <td>0</td>\n",
       "      <td>7.2500</td>\n",
       "      <td>S</td>\n",
       "      <td>Third</td>\n",
       "      <td>man</td>\n",
       "      <td>True</td>\n",
       "      <td>NaN</td>\n",
       "      <td>Southampton</td>\n",
       "      <td>no</td>\n",
       "      <td>False</td>\n",
       "    </tr>\n",
       "    <tr>\n",
       "      <th>1</th>\n",
       "      <td>1</td>\n",
       "      <td>1</td>\n",
       "      <td>female</td>\n",
       "      <td>38.0</td>\n",
       "      <td>1</td>\n",
       "      <td>0</td>\n",
       "      <td>71.2833</td>\n",
       "      <td>C</td>\n",
       "      <td>First</td>\n",
       "      <td>woman</td>\n",
       "      <td>False</td>\n",
       "      <td>C</td>\n",
       "      <td>Cherbourg</td>\n",
       "      <td>yes</td>\n",
       "      <td>False</td>\n",
       "    </tr>\n",
       "    <tr>\n",
       "      <th>2</th>\n",
       "      <td>1</td>\n",
       "      <td>3</td>\n",
       "      <td>female</td>\n",
       "      <td>26.0</td>\n",
       "      <td>0</td>\n",
       "      <td>0</td>\n",
       "      <td>7.9250</td>\n",
       "      <td>S</td>\n",
       "      <td>Third</td>\n",
       "      <td>woman</td>\n",
       "      <td>False</td>\n",
       "      <td>NaN</td>\n",
       "      <td>Southampton</td>\n",
       "      <td>yes</td>\n",
       "      <td>True</td>\n",
       "    </tr>\n",
       "    <tr>\n",
       "      <th>3</th>\n",
       "      <td>1</td>\n",
       "      <td>1</td>\n",
       "      <td>female</td>\n",
       "      <td>35.0</td>\n",
       "      <td>1</td>\n",
       "      <td>0</td>\n",
       "      <td>53.1000</td>\n",
       "      <td>S</td>\n",
       "      <td>First</td>\n",
       "      <td>woman</td>\n",
       "      <td>False</td>\n",
       "      <td>C</td>\n",
       "      <td>Southampton</td>\n",
       "      <td>yes</td>\n",
       "      <td>False</td>\n",
       "    </tr>\n",
       "    <tr>\n",
       "      <th>4</th>\n",
       "      <td>0</td>\n",
       "      <td>3</td>\n",
       "      <td>male</td>\n",
       "      <td>35.0</td>\n",
       "      <td>0</td>\n",
       "      <td>0</td>\n",
       "      <td>8.0500</td>\n",
       "      <td>S</td>\n",
       "      <td>Third</td>\n",
       "      <td>man</td>\n",
       "      <td>True</td>\n",
       "      <td>NaN</td>\n",
       "      <td>Southampton</td>\n",
       "      <td>no</td>\n",
       "      <td>True</td>\n",
       "    </tr>\n",
       "    <tr>\n",
       "      <th>...</th>\n",
       "      <td>...</td>\n",
       "      <td>...</td>\n",
       "      <td>...</td>\n",
       "      <td>...</td>\n",
       "      <td>...</td>\n",
       "      <td>...</td>\n",
       "      <td>...</td>\n",
       "      <td>...</td>\n",
       "      <td>...</td>\n",
       "      <td>...</td>\n",
       "      <td>...</td>\n",
       "      <td>...</td>\n",
       "      <td>...</td>\n",
       "      <td>...</td>\n",
       "      <td>...</td>\n",
       "    </tr>\n",
       "    <tr>\n",
       "      <th>886</th>\n",
       "      <td>0</td>\n",
       "      <td>2</td>\n",
       "      <td>male</td>\n",
       "      <td>27.0</td>\n",
       "      <td>0</td>\n",
       "      <td>0</td>\n",
       "      <td>13.0000</td>\n",
       "      <td>S</td>\n",
       "      <td>Second</td>\n",
       "      <td>man</td>\n",
       "      <td>True</td>\n",
       "      <td>NaN</td>\n",
       "      <td>Southampton</td>\n",
       "      <td>no</td>\n",
       "      <td>True</td>\n",
       "    </tr>\n",
       "    <tr>\n",
       "      <th>887</th>\n",
       "      <td>1</td>\n",
       "      <td>1</td>\n",
       "      <td>female</td>\n",
       "      <td>19.0</td>\n",
       "      <td>0</td>\n",
       "      <td>0</td>\n",
       "      <td>30.0000</td>\n",
       "      <td>S</td>\n",
       "      <td>First</td>\n",
       "      <td>woman</td>\n",
       "      <td>False</td>\n",
       "      <td>B</td>\n",
       "      <td>Southampton</td>\n",
       "      <td>yes</td>\n",
       "      <td>True</td>\n",
       "    </tr>\n",
       "    <tr>\n",
       "      <th>888</th>\n",
       "      <td>0</td>\n",
       "      <td>3</td>\n",
       "      <td>female</td>\n",
       "      <td>NaN</td>\n",
       "      <td>1</td>\n",
       "      <td>2</td>\n",
       "      <td>23.4500</td>\n",
       "      <td>S</td>\n",
       "      <td>Third</td>\n",
       "      <td>woman</td>\n",
       "      <td>False</td>\n",
       "      <td>NaN</td>\n",
       "      <td>Southampton</td>\n",
       "      <td>no</td>\n",
       "      <td>False</td>\n",
       "    </tr>\n",
       "    <tr>\n",
       "      <th>889</th>\n",
       "      <td>1</td>\n",
       "      <td>1</td>\n",
       "      <td>male</td>\n",
       "      <td>26.0</td>\n",
       "      <td>0</td>\n",
       "      <td>0</td>\n",
       "      <td>30.0000</td>\n",
       "      <td>C</td>\n",
       "      <td>First</td>\n",
       "      <td>man</td>\n",
       "      <td>True</td>\n",
       "      <td>C</td>\n",
       "      <td>Cherbourg</td>\n",
       "      <td>yes</td>\n",
       "      <td>True</td>\n",
       "    </tr>\n",
       "    <tr>\n",
       "      <th>890</th>\n",
       "      <td>0</td>\n",
       "      <td>3</td>\n",
       "      <td>male</td>\n",
       "      <td>32.0</td>\n",
       "      <td>0</td>\n",
       "      <td>0</td>\n",
       "      <td>7.7500</td>\n",
       "      <td>Q</td>\n",
       "      <td>Third</td>\n",
       "      <td>man</td>\n",
       "      <td>True</td>\n",
       "      <td>NaN</td>\n",
       "      <td>Queenstown</td>\n",
       "      <td>no</td>\n",
       "      <td>True</td>\n",
       "    </tr>\n",
       "  </tbody>\n",
       "</table>\n",
       "<p>891 rows × 15 columns</p>\n",
       "</div>"
      ],
      "text/plain": [
       "     survived  pclass     sex   age  sibsp  parch     fare embarked   class  \\\n",
       "0           0       3    male  22.0      1      0   7.2500        S   Third   \n",
       "1           1       1  female  38.0      1      0  71.2833        C   First   \n",
       "2           1       3  female  26.0      0      0   7.9250        S   Third   \n",
       "3           1       1  female  35.0      1      0  53.1000        S   First   \n",
       "4           0       3    male  35.0      0      0   8.0500        S   Third   \n",
       "..        ...     ...     ...   ...    ...    ...      ...      ...     ...   \n",
       "886         0       2    male  27.0      0      0  13.0000        S  Second   \n",
       "887         1       1  female  19.0      0      0  30.0000        S   First   \n",
       "888         0       3  female   NaN      1      2  23.4500        S   Third   \n",
       "889         1       1    male  26.0      0      0  30.0000        C   First   \n",
       "890         0       3    male  32.0      0      0   7.7500        Q   Third   \n",
       "\n",
       "       who  adult_male deck  embark_town alive  alone  \n",
       "0      man        True  NaN  Southampton    no  False  \n",
       "1    woman       False    C    Cherbourg   yes  False  \n",
       "2    woman       False  NaN  Southampton   yes   True  \n",
       "3    woman       False    C  Southampton   yes  False  \n",
       "4      man        True  NaN  Southampton    no   True  \n",
       "..     ...         ...  ...          ...   ...    ...  \n",
       "886    man        True  NaN  Southampton    no   True  \n",
       "887  woman       False    B  Southampton   yes   True  \n",
       "888  woman       False  NaN  Southampton    no  False  \n",
       "889    man        True    C    Cherbourg   yes   True  \n",
       "890    man        True  NaN   Queenstown    no   True  \n",
       "\n",
       "[891 rows x 15 columns]"
      ]
     },
     "execution_count": 14,
     "metadata": {},
     "output_type": "execute_result"
    }
   ],
   "source": [
    "titanic"
   ]
  },
  {
   "cell_type": "markdown",
   "id": "52ebcdb9-9dd4-4954-b4d8-7375412500dd",
   "metadata": {},
   "source": [
    "# checking first five rows"
   ]
  },
  {
   "cell_type": "code",
   "execution_count": 20,
   "id": "6fe34cd3-6cd4-4a00-aa60-a355abd6daa6",
   "metadata": {},
   "outputs": [
    {
     "data": {
      "text/html": [
       "<div>\n",
       "<style scoped>\n",
       "    .dataframe tbody tr th:only-of-type {\n",
       "        vertical-align: middle;\n",
       "    }\n",
       "\n",
       "    .dataframe tbody tr th {\n",
       "        vertical-align: top;\n",
       "    }\n",
       "\n",
       "    .dataframe thead th {\n",
       "        text-align: right;\n",
       "    }\n",
       "</style>\n",
       "<table border=\"1\" class=\"dataframe\">\n",
       "  <thead>\n",
       "    <tr style=\"text-align: right;\">\n",
       "      <th></th>\n",
       "      <th>survived</th>\n",
       "      <th>pclass</th>\n",
       "      <th>sex</th>\n",
       "      <th>age</th>\n",
       "      <th>sibsp</th>\n",
       "      <th>parch</th>\n",
       "      <th>fare</th>\n",
       "      <th>embarked</th>\n",
       "      <th>class</th>\n",
       "      <th>who</th>\n",
       "      <th>adult_male</th>\n",
       "      <th>deck</th>\n",
       "      <th>embark_town</th>\n",
       "      <th>alive</th>\n",
       "      <th>alone</th>\n",
       "    </tr>\n",
       "  </thead>\n",
       "  <tbody>\n",
       "    <tr>\n",
       "      <th>0</th>\n",
       "      <td>0</td>\n",
       "      <td>3</td>\n",
       "      <td>male</td>\n",
       "      <td>22.0</td>\n",
       "      <td>1</td>\n",
       "      <td>0</td>\n",
       "      <td>7.2500</td>\n",
       "      <td>S</td>\n",
       "      <td>Third</td>\n",
       "      <td>man</td>\n",
       "      <td>True</td>\n",
       "      <td>NaN</td>\n",
       "      <td>Southampton</td>\n",
       "      <td>no</td>\n",
       "      <td>False</td>\n",
       "    </tr>\n",
       "    <tr>\n",
       "      <th>1</th>\n",
       "      <td>1</td>\n",
       "      <td>1</td>\n",
       "      <td>female</td>\n",
       "      <td>38.0</td>\n",
       "      <td>1</td>\n",
       "      <td>0</td>\n",
       "      <td>71.2833</td>\n",
       "      <td>C</td>\n",
       "      <td>First</td>\n",
       "      <td>woman</td>\n",
       "      <td>False</td>\n",
       "      <td>C</td>\n",
       "      <td>Cherbourg</td>\n",
       "      <td>yes</td>\n",
       "      <td>False</td>\n",
       "    </tr>\n",
       "    <tr>\n",
       "      <th>2</th>\n",
       "      <td>1</td>\n",
       "      <td>3</td>\n",
       "      <td>female</td>\n",
       "      <td>26.0</td>\n",
       "      <td>0</td>\n",
       "      <td>0</td>\n",
       "      <td>7.9250</td>\n",
       "      <td>S</td>\n",
       "      <td>Third</td>\n",
       "      <td>woman</td>\n",
       "      <td>False</td>\n",
       "      <td>NaN</td>\n",
       "      <td>Southampton</td>\n",
       "      <td>yes</td>\n",
       "      <td>True</td>\n",
       "    </tr>\n",
       "    <tr>\n",
       "      <th>3</th>\n",
       "      <td>1</td>\n",
       "      <td>1</td>\n",
       "      <td>female</td>\n",
       "      <td>35.0</td>\n",
       "      <td>1</td>\n",
       "      <td>0</td>\n",
       "      <td>53.1000</td>\n",
       "      <td>S</td>\n",
       "      <td>First</td>\n",
       "      <td>woman</td>\n",
       "      <td>False</td>\n",
       "      <td>C</td>\n",
       "      <td>Southampton</td>\n",
       "      <td>yes</td>\n",
       "      <td>False</td>\n",
       "    </tr>\n",
       "    <tr>\n",
       "      <th>4</th>\n",
       "      <td>0</td>\n",
       "      <td>3</td>\n",
       "      <td>male</td>\n",
       "      <td>35.0</td>\n",
       "      <td>0</td>\n",
       "      <td>0</td>\n",
       "      <td>8.0500</td>\n",
       "      <td>S</td>\n",
       "      <td>Third</td>\n",
       "      <td>man</td>\n",
       "      <td>True</td>\n",
       "      <td>NaN</td>\n",
       "      <td>Southampton</td>\n",
       "      <td>no</td>\n",
       "      <td>True</td>\n",
       "    </tr>\n",
       "  </tbody>\n",
       "</table>\n",
       "</div>"
      ],
      "text/plain": [
       "   survived  pclass     sex   age  sibsp  parch     fare embarked  class  \\\n",
       "0         0       3    male  22.0      1      0   7.2500        S  Third   \n",
       "1         1       1  female  38.0      1      0  71.2833        C  First   \n",
       "2         1       3  female  26.0      0      0   7.9250        S  Third   \n",
       "3         1       1  female  35.0      1      0  53.1000        S  First   \n",
       "4         0       3    male  35.0      0      0   8.0500        S  Third   \n",
       "\n",
       "     who  adult_male deck  embark_town alive  alone  \n",
       "0    man        True  NaN  Southampton    no  False  \n",
       "1  woman       False    C    Cherbourg   yes  False  \n",
       "2  woman       False  NaN  Southampton   yes   True  \n",
       "3  woman       False    C  Southampton   yes  False  \n",
       "4    man        True  NaN  Southampton    no   True  "
      ]
     },
     "execution_count": 20,
     "metadata": {},
     "output_type": "execute_result"
    }
   ],
   "source": [
    "titanic.head()"
   ]
  },
  {
   "cell_type": "markdown",
   "id": "a667b9b7-c30a-4683-9986-dfc2019f06c1",
   "metadata": {},
   "source": [
    " # 2.Check data types, missing values, and shape"
   ]
  },
  {
   "cell_type": "code",
   "execution_count": 33,
   "id": "4d8579f6-9ab9-4d7a-bff3-cdc6409b7046",
   "metadata": {},
   "outputs": [
    {
     "name": "stdout",
     "output_type": "stream",
     "text": [
      "survived          int64\n",
      "pclass            int64\n",
      "sex              object\n",
      "age             float64\n",
      "sibsp             int64\n",
      "parch             int64\n",
      "fare            float64\n",
      "embarked         object\n",
      "class          category\n",
      "who              object\n",
      "adult_male         bool\n",
      "deck           category\n",
      "embark_town      object\n",
      "alive            object\n",
      "alone              bool\n",
      "dtype: object\n"
     ]
    }
   ],
   "source": [
    "# Checking data types of each column\n",
    "print(titanic.dtypes)"
   ]
  },
  {
   "cell_type": "code",
   "execution_count": 31,
   "id": "13191aa9-cb3a-43c8-9bcd-461aac8b68d2",
   "metadata": {},
   "outputs": [
    {
     "name": "stdout",
     "output_type": "stream",
     "text": [
      "\n",
      "Missing values in each column:\n",
      "survived         0\n",
      "pclass           0\n",
      "sex              0\n",
      "age            177\n",
      "sibsp            0\n",
      "parch            0\n",
      "fare             0\n",
      "embarked         2\n",
      "class            0\n",
      "who              0\n",
      "adult_male       0\n",
      "deck           688\n",
      "embark_town      2\n",
      "alive            0\n",
      "alone            0\n",
      "dtype: int64\n"
     ]
    }
   ],
   "source": [
    "# Checking number of missing values in each column\n",
    "print(\"\\nMissing values in each column:\")\n",
    "print(titanic.isnull().sum())"
   ]
  },
  {
   "cell_type": "code",
   "execution_count": 27,
   "id": "7a02c92b-835e-441b-868f-bff7cd4b4f7d",
   "metadata": {},
   "outputs": [
    {
     "name": "stdout",
     "output_type": "stream",
     "text": [
      "Shape of dataset: (891, 15)\n"
     ]
    }
   ],
   "source": [
    "# Checking the shape of the dataset (rows, columns)\n",
    "print(\"Shape of dataset:\", titanic.shape)"
   ]
  },
  {
   "cell_type": "markdown",
   "id": "6eadec72-d0e2-4a07-9f2b-3d6ba812e4b6",
   "metadata": {},
   "source": [
    " # 3.Fill or drop missing data (like Age or Cabin)."
   ]
  },
  {
   "cell_type": "code",
   "execution_count": 36,
   "id": "ca2de891-3128-4f2d-86d8-101d0bb8f0ee",
   "metadata": {},
   "outputs": [],
   "source": [
    "# Droping rows with missing Age or Deck\n",
    "titanic.dropna(subset=['age', 'deck'], inplace=True)"
   ]
  },
  {
   "cell_type": "markdown",
   "id": "6e097236-b303-477a-9183-a26550573b57",
   "metadata": {},
   "source": [
    "Note: In Seaborn’s Titanic dataset, deck column replaces cabin."
   ]
  },
  {
   "cell_type": "markdown",
   "id": "a90d72c6-2d8b-4be9-b0fe-b6264563178f",
   "metadata": {},
   "source": [
    " # 4.Convert 'Sex' and 'Embarked' into numeric codes"
   ]
  },
  {
   "cell_type": "code",
   "execution_count": 40,
   "id": "d4c21329-07f1-4441-8ac1-17cc5b9e21e3",
   "metadata": {},
   "outputs": [],
   "source": [
    "# Converting 'sex' column to numeric codes\n",
    "titanic['sex'] = titanic['sex'].astype('category').cat.codes\n",
    "\n",
    "# Converting 'embarked' column to numeric codes\n",
    "titanic['embarked'] = titanic['embarked'].astype('category').cat.codes"
   ]
  },
  {
   "cell_type": "code",
   "execution_count": 42,
   "id": "cfccb7fc-5f2e-4162-9acb-35079bc19324",
   "metadata": {},
   "outputs": [
    {
     "name": "stdout",
     "output_type": "stream",
     "text": [
      "    sex  embarked\n",
      "1     0         0\n",
      "3     0         2\n",
      "6     1         2\n",
      "10    0         2\n",
      "11    0         2\n"
     ]
    }
   ],
   "source": [
    "1. Display the first few rows of the relevant columns:\n",
    "print(titanic[['sex', 'embarked']].head())"
   ]
  },
  {
   "cell_type": "markdown",
   "id": "456e0e63-df9c-47fa-9f55-522e87eac5e4",
   "metadata": {},
   "source": [
    "# 5.Create plots for survival vs gender/class/age group"
   ]
  },
  {
   "cell_type": "code",
   "execution_count": 149,
   "id": "b39229b9-0415-46c6-8e04-2d4ae862510b",
   "metadata": {},
   "outputs": [
    {
     "data": {
      "text/plain": [
       "<Figure size 640x480 with 0 Axes>"
      ]
     },
     "metadata": {},
     "output_type": "display_data"
    },
    {
     "data": {
      "image/png": "[encoded data removed]",
      "text/plain": [
       "<Figure size 600x400 with 1 Axes>"
      ]
     },
     "metadata": {},
     "output_type": "display_data"
    }
   ],
   "source": [
    "# 1. Survival vs Gender\n",
    "plt.figure(figsize=(6,4))\n",
    "sns.countplot(data=titanic, x='sex', hue='survived')\n",
    "plt.title('Survival Count by Gender')\n",
    "plt.xlabel('Gender (0=female, 1=male)')\n",
    "plt.ylabel('Count')\n",
    "plt.legend(title='Survived', labels=['No', 'Yes'])\n",
    "plt.savefig('survival_by_Gender.png')\n",
    "plt.show()"
   ]
  },
  {
   "cell_type": "code",
   "execution_count": 151,
   "id": "02140b20-e746-46d7-b50e-839e7e09e17c",
   "metadata": {},
   "outputs": [
    {
     "data": {
      "image/png": "[encoded data removed]",
      "text/plain": [
       "<Figure size 800x500 with 1 Axes>"
      ]
     },
     "metadata": {},
     "output_type": "display_data"
    }
   ],
   "source": [
    "# Plot survival by class \n",
    "plt.figure(figsize=(8,5))\n",
    "sns.countplot(data=titanic, x='class', hue='survived')\n",
    "plt.title('Survival Count by Class')\n",
    "plt.xlabel('Class')\n",
    "plt.ylabel('Count')\n",
    "plt.legend(title='Survived', labels=['No', 'Yes'])\n",
    "plt.savefig('survival_by_class.png')\n",
    "plt.show()"
   ]
  },
  {
   "cell_type": "code",
   "execution_count": 153,
   "id": "c03c0a0d-3bc4-4457-b8b1-88445e22127d",
   "metadata": {},
   "outputs": [
    {
     "data": {
      "image/png": "[encoded data removed]",
      "text/plain": [
       "<Figure size 500x600 with 1 Axes>"
      ]
     },
     "metadata": {},
     "output_type": "display_data"
    }
   ],
   "source": [
    " # Plot survival by class \n",
    "plt.figure(figsize=(5,6))\n",
    "sns.histplot(data=titanic, x='age', hue='survived', multiple='stack', bins=30)\n",
    "plt.title('Survival Count by Age')\n",
    "plt.xlabel('Age')\n",
    "plt.ylabel('Count')\n",
    "plt.savefig('survival_by_Age.png')\n",
    "plt.show()"
   ]
  },
  {
   "cell_type": "markdown",
   "id": "60db52ba-1962-4c81-a159-78470d2afdc5",
   "metadata": {},
   "source": [
    "# 6.Show how family size or ticket fare affected survival"
   ]
  },
  {
   "cell_type": "code",
   "execution_count": 70,
   "id": "9e9c2cf9-4556-4541-9113-977cabc5571d",
   "metadata": {},
   "outputs": [],
   "source": [
    "# Step 1: Create family_size column\n",
    "titanic['family_size'] = titanic['sibsp'] + titanic['parch'] + 1"
   ]
  },
  {
   "cell_type": "code",
   "execution_count": 155,
   "id": "e405d20d-6681-41a2-936d-4dfe79575bb1",
   "metadata": {},
   "outputs": [
    {
     "data": {
      "image/png": "[encoded data removed]",
      "text/plain": [
       "<Figure size 500x600 with 1 Axes>"
      ]
     },
     "metadata": {},
     "output_type": "display_data"
    }
   ],
   "source": [
    "#  Plot survival count based on family size\n",
    "plt.figure(figsize=(5,6))\n",
    "sns.countplot(data=titanic, x='family_size', hue='survived')\n",
    "plt.title('📊 Survival Count by Family Size')\n",
    "plt.xlabel('Family Size')\n",
    "plt.ylabel('Number of Passengers')\n",
    "plt.legend(title='Survived', labels=['No', 'Yes'])\n",
    "plt.savefig('survival_by_Family Size.png')\n",
    "plt.show()"
   ]
  },
  {
   "cell_type": "code",
   "execution_count": 157,
   "id": "4643e86b-90b7-453f-b238-b2c019bc4dde",
   "metadata": {},
   "outputs": [
    {
     "data": {
      "image/png": "[encoded data removed]",
      "text/plain": [
       "<Figure size 800x600 with 1 Axes>"
      ]
     },
     "metadata": {},
     "output_type": "display_data"
    }
   ],
   "source": [
    "# how ticket fare affected by survival\n",
    "plt.figure(figsize=(8,6))\n",
    "sns.boxplot(data=titanic, x='survived', y='fare')\n",
    "plt.title('📊 Fare Distribution by Survival')\n",
    "plt.xlabel('Survived (0 = No, 1 = Yes)')\n",
    "plt.ylabel('Ticket Fare')\n",
    "plt.savefig('Fare_affected_by_Survival.png')\n",
    "plt.show()"
   ]
  },
  {
   "cell_type": "markdown",
   "id": "213a98ee-d493-4241-b03b-fb20d1c4a9c6",
   "metadata": {},
   "source": [
    "# 7.Use .groupby() and .pivot_table() for deeper insights"
   ]
  },
  {
   "cell_type": "markdown",
   "id": "be435be5-674d-4261-883e-416fa5796ff7",
   "metadata": {},
   "source": [
    "# groupby() Examples"
   ]
  },
  {
   "cell_type": "markdown",
   "id": "dd08213b-d35c-439f-a0a2-b1de705ff83d",
   "metadata": {},
   "source": [
    "Survival Rate by Class"
   ]
  },
  {
   "cell_type": "code",
   "execution_count": 86,
   "id": "3c1ebc01-c34c-48c9-af1c-58fb2aa83717",
   "metadata": {},
   "outputs": [
    {
     "data": {
      "text/plain": [
       "class\n",
       "First     0.679245\n",
       "Second    0.800000\n",
       "Third     0.500000\n",
       "Name: survived, dtype: float64"
      ]
     },
     "execution_count": 86,
     "metadata": {},
     "output_type": "execute_result"
    }
   ],
   "source": [
    "# This shows the percentage of survivors for each gender\n",
    "titanic.groupby('class')['survived'].mean()"
   ]
  },
  {
   "cell_type": "markdown",
   "id": "e788fb99-bb4c-48dc-8e20-3c14a83825d3",
   "metadata": {},
   "source": [
    "Survival Rate by Gender"
   ]
  },
  {
   "cell_type": "code",
   "execution_count": 89,
   "id": "334c57b6-5823-487b-80b8-5000e933577c",
   "metadata": {},
   "outputs": [
    {
     "data": {
      "text/plain": [
       "sex\n",
       "0    0.933333\n",
       "1    0.436170\n",
       "Name: survived, dtype: float64"
      ]
     },
     "execution_count": 89,
     "metadata": {},
     "output_type": "execute_result"
    }
   ],
   "source": [
    "# This shows the percentage of survivors for each gender.\n",
    "titanic.groupby('sex')['survived'].mean()"
   ]
  },
  {
   "cell_type": "markdown",
   "id": "35c1e8bd-8f22-4d3b-8943-ca2ee02438fa",
   "metadata": {},
   "source": [
    "Average Fare Paid by Class and Survival"
   ]
  },
  {
   "cell_type": "code",
   "execution_count": 94,
   "id": "d57a3eac-bfb3-4602-8ebe-8857ece588ba",
   "metadata": {},
   "outputs": [
    {
     "data": {
      "text/plain": [
       "class   survived\n",
       "First   0           72.826386\n",
       "        1           96.502819\n",
       "Second  0           16.458333\n",
       "        1           18.940975\n",
       "Third   0            8.775000\n",
       "        1           13.280000\n",
       "Name: fare, dtype: float64"
      ]
     },
     "execution_count": 94,
     "metadata": {},
     "output_type": "execute_result"
    }
   ],
   "source": [
    "# Shows the average fare for each class, split by survival status.\n",
    "titanic.groupby(['class', 'survived'])['fare'].mean()"
   ]
  },
  {
   "cell_type": "markdown",
   "id": "2913bdd3-85ca-48b5-b6a1-1739db9143dc",
   "metadata": {},
   "source": [
    "Survival Rate by Family Size"
   ]
  },
  {
   "cell_type": "code",
   "execution_count": 97,
   "id": "28fbdae0-a9f4-49d0-994b-2142fc7fbaa0",
   "metadata": {},
   "outputs": [
    {
     "data": {
      "text/plain": [
       "family_size\n",
       "1    0.625000\n",
       "2    0.721311\n",
       "3    0.714286\n",
       "4    0.777778\n",
       "5    1.000000\n",
       "6    0.500000\n",
       "Name: survived, dtype: float64"
      ]
     },
     "execution_count": 97,
     "metadata": {},
     "output_type": "execute_result"
    }
   ],
   "source": [
    "# Tells that which family sizes had higher survival chances.\n",
    "titanic['family_size'] = titanic['sibsp'] + titanic['parch'] + 1\n",
    "titanic.groupby('family_size')['survived'].mean()"
   ]
  },
  {
   "cell_type": "markdown",
   "id": "d79b1106-0212-42be-9e6d-88a77eade789",
   "metadata": {},
   "source": [
    "# 2. pivot_table() Examples"
   ]
  },
  {
   "cell_type": "markdown",
   "id": "3c12d432-dce5-42ff-baef-6d5a10af3bd8",
   "metadata": {},
   "source": [
    "Survival Rate by Gender and Class"
   ]
  },
  {
   "cell_type": "code",
   "execution_count": 106,
   "id": "a73d1c21-2feb-4319-90f8-acba06cd9be0",
   "metadata": {},
   "outputs": [
    {
     "data": {
      "text/html": [
       "<div>\n",
       "<style scoped>\n",
       "    .dataframe tbody tr th:only-of-type {\n",
       "        vertical-align: middle;\n",
       "    }\n",
       "\n",
       "    .dataframe tbody tr th {\n",
       "        vertical-align: top;\n",
       "    }\n",
       "\n",
       "    .dataframe thead th {\n",
       "        text-align: right;\n",
       "    }\n",
       "</style>\n",
       "<table border=\"1\" class=\"dataframe\">\n",
       "  <thead>\n",
       "    <tr style=\"text-align: right;\">\n",
       "      <th>class</th>\n",
       "      <th>First</th>\n",
       "      <th>Second</th>\n",
       "      <th>Third</th>\n",
       "    </tr>\n",
       "    <tr>\n",
       "      <th>sex</th>\n",
       "      <th></th>\n",
       "      <th></th>\n",
       "      <th></th>\n",
       "    </tr>\n",
       "  </thead>\n",
       "  <tbody>\n",
       "    <tr>\n",
       "      <th>0</th>\n",
       "      <td>0.960526</td>\n",
       "      <td>0.888889</td>\n",
       "      <td>0.6</td>\n",
       "    </tr>\n",
       "    <tr>\n",
       "      <th>1</th>\n",
       "      <td>0.421687</td>\n",
       "      <td>0.666667</td>\n",
       "      <td>0.4</td>\n",
       "    </tr>\n",
       "  </tbody>\n",
       "</table>\n",
       "</div>"
      ],
      "text/plain": [
       "class     First    Second  Third\n",
       "sex                             \n",
       "0      0.960526  0.888889    0.6\n",
       "1      0.421687  0.666667    0.4"
      ]
     },
     "execution_count": 106,
     "metadata": {},
     "output_type": "execute_result"
    }
   ],
   "source": [
    "# shows survival % for each gender + class combination.\n",
    "titanic.pivot_table(values='survived', index='sex', columns='class', aggfunc='mean')"
   ]
  },
  {
   "cell_type": "markdown",
   "id": "adda51e9-daaa-42b3-a8cd-4b5d0138be69",
   "metadata": {},
   "source": [
    "Average Fare by Class and Gender"
   ]
  },
  {
   "cell_type": "code",
   "execution_count": 116,
   "id": "2dce6fe8-0069-49bd-8dcf-e4498c60e422",
   "metadata": {},
   "outputs": [
    {
     "data": {
      "text/html": [
       "<div>\n",
       "<style scoped>\n",
       "    .dataframe tbody tr th:only-of-type {\n",
       "        vertical-align: middle;\n",
       "    }\n",
       "\n",
       "    .dataframe tbody tr th {\n",
       "        vertical-align: top;\n",
       "    }\n",
       "\n",
       "    .dataframe thead th {\n",
       "        text-align: right;\n",
       "    }\n",
       "</style>\n",
       "<table border=\"1\" class=\"dataframe\">\n",
       "  <thead>\n",
       "    <tr style=\"text-align: right;\">\n",
       "      <th>sex</th>\n",
       "      <th>0</th>\n",
       "      <th>1</th>\n",
       "    </tr>\n",
       "    <tr>\n",
       "      <th>class</th>\n",
       "      <th></th>\n",
       "      <th></th>\n",
       "    </tr>\n",
       "  </thead>\n",
       "  <tbody>\n",
       "    <tr>\n",
       "      <th>First</th>\n",
       "      <td>102.519572</td>\n",
       "      <td>76.445333</td>\n",
       "    </tr>\n",
       "    <tr>\n",
       "      <th>Second</th>\n",
       "      <td>14.865744</td>\n",
       "      <td>23.812500</td>\n",
       "    </tr>\n",
       "    <tr>\n",
       "      <th>Third</th>\n",
       "      <td>13.360000</td>\n",
       "      <td>8.695000</td>\n",
       "    </tr>\n",
       "  </tbody>\n",
       "</table>\n",
       "</div>"
      ],
      "text/plain": [
       "sex              0          1\n",
       "class                        \n",
       "First   102.519572  76.445333\n",
       "Second   14.865744  23.812500\n",
       "Third    13.360000   8.695000"
      ]
     },
     "execution_count": 116,
     "metadata": {},
     "output_type": "execute_result"
    }
   ],
   "source": [
    "# Useful for seeing who paid more on average.\n",
    "titanic.pivot_table(values='fare', index='class', columns='sex', aggfunc='mean')"
   ]
  },
  {
   "cell_type": "markdown",
   "id": "c3c848a7-5595-43d9-a2cc-5f4736f22305",
   "metadata": {},
   "source": [
    "Count of Passengers by Class and Survival"
   ]
  },
  {
   "cell_type": "code",
   "execution_count": 126,
   "id": "241788be-6141-41e0-9332-40a2af534a28",
   "metadata": {},
   "outputs": [
    {
     "data": {
      "text/html": [
       "<div>\n",
       "<style scoped>\n",
       "    .dataframe tbody tr th:only-of-type {\n",
       "        vertical-align: middle;\n",
       "    }\n",
       "\n",
       "    .dataframe tbody tr th {\n",
       "        vertical-align: top;\n",
       "    }\n",
       "\n",
       "    .dataframe thead th {\n",
       "        text-align: right;\n",
       "    }\n",
       "</style>\n",
       "<table border=\"1\" class=\"dataframe\">\n",
       "  <thead>\n",
       "    <tr style=\"text-align: right;\">\n",
       "      <th>survived</th>\n",
       "      <th>0</th>\n",
       "      <th>1</th>\n",
       "    </tr>\n",
       "    <tr>\n",
       "      <th>class</th>\n",
       "      <th></th>\n",
       "      <th></th>\n",
       "    </tr>\n",
       "  </thead>\n",
       "  <tbody>\n",
       "    <tr>\n",
       "      <th>First</th>\n",
       "      <td>51</td>\n",
       "      <td>108</td>\n",
       "    </tr>\n",
       "    <tr>\n",
       "      <th>Second</th>\n",
       "      <td>3</td>\n",
       "      <td>12</td>\n",
       "    </tr>\n",
       "    <tr>\n",
       "      <th>Third</th>\n",
       "      <td>5</td>\n",
       "      <td>5</td>\n",
       "    </tr>\n",
       "  </tbody>\n",
       "</table>\n",
       "</div>"
      ],
      "text/plain": [
       "survived   0    1\n",
       "class            \n",
       "First     51  108\n",
       "Second     3   12\n",
       "Third      5    5"
      ]
     },
     "execution_count": 126,
     "metadata": {},
     "output_type": "execute_result"
    }
   ],
   "source": [
    "titanic.pivot_table(values='sex', index='class', columns='survived', aggfunc='count')"
   ]
  },
  {
   "cell_type": "code",
   "execution_count": 130,
   "id": "5160f50f-b3fd-43b2-96b9-86aacb450f70",
   "metadata": {},
   "outputs": [
    {
     "data": {
      "text/plain": [
       "sex\n",
       "0    0.93\n",
       "1    0.44\n",
       "Name: survived, dtype: float64"
      ]
     },
     "execution_count": 130,
     "metadata": {},
     "output_type": "execute_result"
    }
   ],
   "source": [
    "# Round survival rates for cleaner output\n",
    "titanic.groupby('sex')['survived'].mean().round(2)"
   ]
  },
  {
   "cell_type": "markdown",
   "id": "aa66e0a3-845f-4137-8967-9e261bc8e4af",
   "metadata": {},
   "source": [
    "# 8.Write conclusions in markdown/comments."
   ]
  },
  {
   "cell_type": "markdown",
   "id": "364c59c7-95a9-4372-bfda-88a19af0c256",
   "metadata": {},
   "source": [
    "Titanic Dataset Analysis: Key Insights\n",
    "\n",
    "1. **Data Quality and Preparation:**\n",
    "   - Missing values in `Age` and `Cabin` were handled appropriately.\n",
    "   - Categorical variables like `Sex` and `Embarked` were converted into numeric codes for analysis.\n",
    "\n",
    "2. **Survival Analysis by Gender, Class, and Age:**\n",
    "   - Females had a significantly higher survival rate compared to males.\n",
    "   - Passengers in 1st class had the highest survival rate; survival decreased with lower classes.\n",
    "   - Younger passengers and children showed better survival rates.\n",
    "\n",
    "3. **Family Size Impact:**\n",
    "   - Passengers traveling with small families (2-4 members) had higher chances of survival.\n",
    "   - Solo travelers and very large families had lower survival rates.\n",
    "\n",
    "4. **Ticket Fare and Survival:**\n",
    "   - Higher ticket fare was positively correlated with survival, reflecting better access to lifeboats or safer cabins.\n",
    "\n",
    "5. **Deeper Insights Using Groupby and Pivot Tables:**\n",
    "   - Grouping by gender and class confirmed disparities in survival rates.\n",
    "   - Pivot tables highlighted combined effects, such as survival rates for females in 1st class being the highest.\n",
    "\n",
    "---\n",
    "\n",
    "### Summary:\n",
    "Survival on the Titanic was influenced by multiple factors including gender, social class, age, family size, and fare paid. The analysis reflects historical accounts of evacuation priorities and social structure aboard the ship.\n",
    "\n"
   ]
  },
  {
   "cell_type": "markdown",
   "id": "1b24bec8-6987-49a0-863d-3a281e3f856f",
   "metadata": {},
   "source": [
    "<!-- # Conclusions:\n",
    "# - Females had higher survival rates than males.\n",
    "# - 1st class passengers survived more than 2nd and 3rd class.\n",
    "# - Children and younger passengers had better survival chances.\n",
    "# - Small family groups had better survival outcomes than individuals or large families.\n",
    "# - Higher ticket fare passengers survived at a higher rate, linking fare with class and survival.\n",
    "# - Groupby and pivot tables confirmed these patterns and highlighted the combined influence of factors.\n",
    " -->"
   ]
  },
  {
   "cell_type": "code",
   "execution_count": null,
   "id": "bef0e1c1-8b9c-43fa-956a-36fd37274779",
   "metadata": {},
   "outputs": [],
   "source": [
    "# Conclusions:\n",
    "# - Females had higher survival rates than males.\n",
    "# - 1st class passengers survived more than 2nd and 3rd class.\n",
    "# - Children and younger passengers had better survival chances.\n",
    "# - Small family groups had better survival outcomes than individuals or large families.\n",
    "# - Higher ticket fare passengers survived at a higher rate, linking fare with class and survival.\n",
    "# - Groupby and pivot tables confirmed these patterns and highlighted the combined influence of factors.\n"
   ]
  },
  {
   "cell_type": "markdown",
   "id": "b397eef8-8289-4652-a79c-d70bedcf0d61",
   "metadata": {},
   "source": [
    "#  9.Export cleaned dataset"
   ]
  },
  {
   "cell_type": "code",
   "execution_count": 137,
   "id": "802810b4-911d-46ff-8724-077f6055590e",
   "metadata": {},
   "outputs": [],
   "source": [
    "titanic.to_csv('titanic_cleaned.csv', index=False)"
   ]
  },
  {
   "cell_type": "code",
   "execution_count": 141,
   "id": "3d9ab58b-5e17-4949-9383-9001aa2dbb64",
   "metadata": {},
   "outputs": [
    {
     "name": "stdout",
     "output_type": "stream",
     "text": [
      "True\n"
     ]
    }
   ],
   "source": [
    "# Check if Exported File Exists\n",
    "import os\n",
    "print(os.path.isfile('titanic_cleaned.csv'))"
   ]
  },
  {
   "cell_type": "markdown",
   "id": "e0ed2f3b-e765-4a06-ac25-6c1b54d9f75c",
   "metadata": {},
   "source": [
    "Check If Exported File Exists and Show Current Directory"
   ]
  },
  {
   "cell_type": "code",
   "execution_count": 143,
   "id": "c916eff3-5fd0-4638-a152-6ebd82640c60",
   "metadata": {},
   "outputs": [
    {
     "name": "stdout",
     "output_type": "stream",
     "text": [
      "True\n",
      "C:\\Users\\admin\\Growfinix task\n"
     ]
    }
   ],
   "source": [
    "import os\n",
    "\n",
    "print(os.path.isfile('titanic_cleaned.csv'))\n",
    "print(os.getcwd())"
   ]
  },
  {
   "cell_type": "markdown",
   "id": "56f61ea2-8078-475a-a9b0-6c767b2c3fa2",
   "metadata": {},
   "source": [
    " # 10.Save charts as images"
   ]
  },
  {
   "cell_type": "code",
   "execution_count": 146,
   "id": "6399f283-231e-48b7-8c6f-7b13196d181f",
   "metadata": {},
   "outputs": [],
   "source": [
    "plt.savefig('filename.png')"
   ]
  },
  {
   "cell_type": "code",
   "execution_count": null,
   "id": "ad39526d-2fa2-46fa-8de8-29eab2830879",
   "metadata": {},
   "outputs": [],
   "source": []
  }
 ],
 "metadata": {
  "kernelspec": {
   "display_name": "Python [conda env:base] *",
   "language": "python",
   "name": "conda-base-py"
  },
  "language_info": {
   "codemirror_mode": {
    "name": "ipython",
    "version": 3
   },
   "file_extension": ".py",
   "mimetype": "text/x-python",
   "name": "python",
   "nbconvert_exporter": "python",
   "pygments_lexer": "ipython3",
   "version": "3.12.7"
  }
 },
 "nbformat": 4,
 "nbformat_minor": 5
}
